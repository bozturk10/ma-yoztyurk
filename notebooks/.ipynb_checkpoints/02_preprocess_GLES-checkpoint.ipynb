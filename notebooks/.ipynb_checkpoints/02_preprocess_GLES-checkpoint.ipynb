{
 "cells": [
  {
   "cell_type": "code",
   "execution_count": 1,
   "metadata": {},
   "outputs": [
    {
     "ename": "ModuleNotFoundError",
     "evalue": "No module named 'src'",
     "output_type": "error",
     "traceback": [
      "\u001b[0;31m---------------------------------------------------------------------------\u001b[0m",
      "\u001b[0;31mModuleNotFoundError\u001b[0m                       Traceback (most recent call last)",
      "Cell \u001b[0;32mIn[1], line 5\u001b[0m\n\u001b[1;32m      3\u001b[0m \u001b[38;5;28;01mimport\u001b[39;00m \u001b[38;5;21;01mpandas\u001b[39;00m \u001b[38;5;28;01mas\u001b[39;00m \u001b[38;5;21;01mpd\u001b[39;00m\n\u001b[1;32m      4\u001b[0m \u001b[38;5;28;01mimport\u001b[39;00m \u001b[38;5;21;01mre\u001b[39;00m\n\u001b[0;32m----> 5\u001b[0m \u001b[38;5;28;01mfrom\u001b[39;00m \u001b[38;5;21;01msrc\u001b[39;00m\u001b[38;5;21;01m.\u001b[39;00m\u001b[38;5;21;01mdata\u001b[39;00m\u001b[38;5;21;01m.\u001b[39;00m\u001b[38;5;21;01mprocess_data\u001b[39;00m \u001b[38;5;28;01mimport\u001b[39;00m process_open_ended, process_wave_data\n\u001b[1;32m      6\u001b[0m \u001b[38;5;28;01mfrom\u001b[39;00m \u001b[38;5;21;01msrc\u001b[39;00m\u001b[38;5;21;01m.\u001b[39;00m\u001b[38;5;21;01mdata\u001b[39;00m\u001b[38;5;21;01m.\u001b[39;00m\u001b[38;5;21;01mread_data\u001b[39;00m \u001b[38;5;28;01mimport\u001b[39;00m load_raw_survey_data, read_stata_file\n\u001b[1;32m      7\u001b[0m \u001b[38;5;28;01mfrom\u001b[39;00m \u001b[38;5;21;01msrc\u001b[39;00m\u001b[38;5;21;01m.\u001b[39;00m\u001b[38;5;21;01mpaths\u001b[39;00m \u001b[38;5;28;01mimport\u001b[39;00m CODING_DIR, GLES_DIR, PROCESSED_DATA_DIR, PROJECT_DIR, PROMPT_DIR, RAW_DATA_DIR\n",
      "\u001b[0;31mModuleNotFoundError\u001b[0m: No module named 'src'"
     ]
    }
   ],
   "source": [
    "import json\n",
    "import os\n",
    "import pandas as pd\n",
    "import re\n",
    "from src.data.process_data import process_open_ended, process_wave_data\n",
    "from src.data.read_data import load_raw_survey_data, read_stata_file\n",
    "from src.paths import CODING_DIR, GLES_DIR, PROCESSED_DATA_DIR, PROJECT_DIR, PROMPT_DIR, RAW_DATA_DIR\n",
    "from src.utils import format_prompt\n"
   ]
  },
  {
   "cell_type": "code",
   "execution_count": 2,
   "metadata": {},
   "outputs": [
    {
     "name": "stdout",
     "output_type": "stream",
     "text": [
      "Obtaining file:///dss/dsshome1/0F/ra46lup2/ma-yoztyurk (from -r ../requirements.txt (line 1))\n",
      "  Preparing metadata (setup.py) ... \u001b[?25ldone\n",
      "\u001b[?25hRequirement already satisfied: transformers in /dss/dsshome1/0F/ra46lup2/miniconda3/envs/llm/lib/python3.12/site-packages (from -r ../requirements.txt (line 3)) (4.39.3)\n",
      "Requirement already satisfied: accelerate in /dss/dsshome1/0F/ra46lup2/miniconda3/envs/llm/lib/python3.12/site-packages (from -r ../requirements.txt (line 4)) (0.26.1)\n",
      "Requirement already satisfied: SentencePiece in /dss/dsshome1/0F/ra46lup2/miniconda3/envs/llm/lib/python3.12/site-packages (from -r ../requirements.txt (line 5)) (0.2.0)\n",
      "Requirement already satisfied: bitsandbytes in /dss/dsshome1/0F/ra46lup2/miniconda3/envs/llm/lib/python3.12/site-packages (from -r ../requirements.txt (line 6)) (0.42.0)\n",
      "Requirement already satisfied: wandb in /dss/dsshome1/0F/ra46lup2/miniconda3/envs/llm/lib/python3.12/site-packages (from -r ../requirements.txt (line 7)) (0.16.4)\n",
      "Requirement already satisfied: scikit-learn in /dss/dsshome1/0F/ra46lup2/miniconda3/envs/llm/lib/python3.12/site-packages (from -r ../requirements.txt (line 8)) (1.4.0)\n",
      "Requirement already satisfied: datasets in /dss/dsshome1/0F/ra46lup2/miniconda3/envs/llm/lib/python3.12/site-packages (from -r ../requirements.txt (line 9)) (2.16.1)\n",
      "Requirement already satisfied: evaluate in /dss/dsshome1/0F/ra46lup2/miniconda3/envs/llm/lib/python3.12/site-packages (from -r ../requirements.txt (line 10)) (0.4.1)\n",
      "Requirement already satisfied: seaborn in /dss/dsshome1/0F/ra46lup2/miniconda3/envs/llm/lib/python3.12/site-packages (from -r ../requirements.txt (line 11)) (0.13.2)\n",
      "Requirement already satisfied: matplotlib in /dss/dsshome1/0F/ra46lup2/miniconda3/envs/llm/lib/python3.12/site-packages (from -r ../requirements.txt (line 12)) (3.8.0)\n",
      "Requirement already satisfied: plotly in /dss/dsshome1/0F/ra46lup2/miniconda3/envs/llm/lib/python3.12/site-packages (from -r ../requirements.txt (line 13)) (5.18.0)\n",
      "Requirement already satisfied: langdetect in /dss/dsshome1/0F/ra46lup2/miniconda3/envs/llm/lib/python3.12/site-packages (from -r ../requirements.txt (line 14)) (1.0.9)\n",
      "Requirement already satisfied: deep-translator in /dss/dsshome1/0F/ra46lup2/miniconda3/envs/llm/lib/python3.12/site-packages (from -r ../requirements.txt (line 15)) (1.11.4)\n",
      "Requirement already satisfied: python-dotenv in /dss/dsshome1/0F/ra46lup2/miniconda3/envs/llm/lib/python3.12/site-packages (from -r ../requirements.txt (line 16)) (1.0.1)\n",
      "Requirement already satisfied: filelock in /dss/dsshome1/0F/ra46lup2/miniconda3/envs/llm/lib/python3.12/site-packages (from transformers->-r ../requirements.txt (line 3)) (3.13.1)\n",
      "Requirement already satisfied: huggingface-hub<1.0,>=0.19.3 in /dss/dsshome1/0F/ra46lup2/miniconda3/envs/llm/lib/python3.12/site-packages (from transformers->-r ../requirements.txt (line 3)) (0.20.3)\n",
      "Requirement already satisfied: numpy>=1.17 in /dss/dsshome1/0F/ra46lup2/miniconda3/envs/llm/lib/python3.12/site-packages (from transformers->-r ../requirements.txt (line 3)) (1.26.3)\n",
      "Requirement already satisfied: packaging>=20.0 in /dss/dsshome1/0F/ra46lup2/miniconda3/envs/llm/lib/python3.12/site-packages (from transformers->-r ../requirements.txt (line 3)) (23.1)\n",
      "Requirement already satisfied: pyyaml>=5.1 in /dss/dsshome1/0F/ra46lup2/miniconda3/envs/llm/lib/python3.12/site-packages (from transformers->-r ../requirements.txt (line 3)) (6.0.1)\n",
      "Requirement already satisfied: regex!=2019.12.17 in /dss/dsshome1/0F/ra46lup2/miniconda3/envs/llm/lib/python3.12/site-packages (from transformers->-r ../requirements.txt (line 3)) (2023.12.25)\n",
      "Requirement already satisfied: requests in /dss/dsshome1/0F/ra46lup2/miniconda3/envs/llm/lib/python3.12/site-packages (from transformers->-r ../requirements.txt (line 3)) (2.31.0)\n",
      "Requirement already satisfied: tokenizers<0.19,>=0.14 in /dss/dsshome1/0F/ra46lup2/miniconda3/envs/llm/lib/python3.12/site-packages (from transformers->-r ../requirements.txt (line 3)) (0.15.1)\n",
      "Requirement already satisfied: safetensors>=0.4.1 in /dss/dsshome1/0F/ra46lup2/miniconda3/envs/llm/lib/python3.12/site-packages (from transformers->-r ../requirements.txt (line 3)) (0.4.2)\n",
      "Requirement already satisfied: tqdm>=4.27 in /dss/dsshome1/0F/ra46lup2/miniconda3/envs/llm/lib/python3.12/site-packages (from transformers->-r ../requirements.txt (line 3)) (4.66.1)\n",
      "Requirement already satisfied: psutil in /dss/dsshome1/0F/ra46lup2/miniconda3/envs/llm/lib/python3.12/site-packages (from accelerate->-r ../requirements.txt (line 4)) (5.9.0)\n",
      "Requirement already satisfied: torch>=1.10.0 in /dss/dsshome1/0F/ra46lup2/miniconda3/envs/llm/lib/python3.12/site-packages (from accelerate->-r ../requirements.txt (line 4)) (2.2.0)\n",
      "Requirement already satisfied: scipy in /dss/dsshome1/0F/ra46lup2/miniconda3/envs/llm/lib/python3.12/site-packages (from bitsandbytes->-r ../requirements.txt (line 6)) (1.12.0)\n",
      "Requirement already satisfied: Click!=8.0.0,>=7.1 in /dss/dsshome1/0F/ra46lup2/miniconda3/envs/llm/lib/python3.12/site-packages (from wandb->-r ../requirements.txt (line 7)) (8.1.7)\n",
      "Requirement already satisfied: GitPython!=3.1.29,>=1.0.0 in /dss/dsshome1/0F/ra46lup2/miniconda3/envs/llm/lib/python3.12/site-packages (from wandb->-r ../requirements.txt (line 7)) (3.1.42)\n",
      "Requirement already satisfied: sentry-sdk>=1.0.0 in /dss/dsshome1/0F/ra46lup2/miniconda3/envs/llm/lib/python3.12/site-packages (from wandb->-r ../requirements.txt (line 7)) (1.41.0)\n",
      "Requirement already satisfied: docker-pycreds>=0.4.0 in /dss/dsshome1/0F/ra46lup2/miniconda3/envs/llm/lib/python3.12/site-packages (from wandb->-r ../requirements.txt (line 7)) (0.4.0)\n",
      "Requirement already satisfied: setproctitle in /dss/dsshome1/0F/ra46lup2/miniconda3/envs/llm/lib/python3.12/site-packages (from wandb->-r ../requirements.txt (line 7)) (1.3.3)\n",
      "Requirement already satisfied: setuptools in /dss/dsshome1/0F/ra46lup2/miniconda3/envs/llm/lib/python3.12/site-packages (from wandb->-r ../requirements.txt (line 7)) (68.2.2)\n",
      "Requirement already satisfied: appdirs>=1.4.3 in /dss/dsshome1/0F/ra46lup2/miniconda3/envs/llm/lib/python3.12/site-packages (from wandb->-r ../requirements.txt (line 7)) (1.4.4)\n",
      "Requirement already satisfied: protobuf!=4.21.0,<5,>=3.19.0 in /dss/dsshome1/0F/ra46lup2/miniconda3/envs/llm/lib/python3.12/site-packages (from wandb->-r ../requirements.txt (line 7)) (4.25.3)\n",
      "Requirement already satisfied: joblib>=1.2.0 in /dss/dsshome1/0F/ra46lup2/miniconda3/envs/llm/lib/python3.12/site-packages (from scikit-learn->-r ../requirements.txt (line 8)) (1.3.2)\n",
      "Requirement already satisfied: threadpoolctl>=2.0.0 in /dss/dsshome1/0F/ra46lup2/miniconda3/envs/llm/lib/python3.12/site-packages (from scikit-learn->-r ../requirements.txt (line 8)) (3.2.0)\n",
      "Requirement already satisfied: pyarrow>=8.0.0 in /dss/dsshome1/0F/ra46lup2/miniconda3/envs/llm/lib/python3.12/site-packages (from datasets->-r ../requirements.txt (line 9)) (15.0.0)\n",
      "Requirement already satisfied: pyarrow-hotfix in /dss/dsshome1/0F/ra46lup2/miniconda3/envs/llm/lib/python3.12/site-packages (from datasets->-r ../requirements.txt (line 9)) (0.6)\n",
      "Requirement already satisfied: dill<0.3.8,>=0.3.0 in /dss/dsshome1/0F/ra46lup2/miniconda3/envs/llm/lib/python3.12/site-packages (from datasets->-r ../requirements.txt (line 9)) (0.3.7)\n",
      "Requirement already satisfied: pandas in /dss/dsshome1/0F/ra46lup2/miniconda3/envs/llm/lib/python3.12/site-packages (from datasets->-r ../requirements.txt (line 9)) (2.1.4)\n",
      "Requirement already satisfied: xxhash in /dss/dsshome1/0F/ra46lup2/miniconda3/envs/llm/lib/python3.12/site-packages (from datasets->-r ../requirements.txt (line 9)) (3.4.1)\n",
      "Requirement already satisfied: multiprocess in /dss/dsshome1/0F/ra46lup2/miniconda3/envs/llm/lib/python3.12/site-packages (from datasets->-r ../requirements.txt (line 9)) (0.70.15)\n",
      "Requirement already satisfied: fsspec<=2023.10.0,>=2023.1.0 in /dss/dsshome1/0F/ra46lup2/miniconda3/envs/llm/lib/python3.12/site-packages (from fsspec[http]<=2023.10.0,>=2023.1.0->datasets->-r ../requirements.txt (line 9)) (2023.10.0)\n",
      "Requirement already satisfied: aiohttp in /dss/dsshome1/0F/ra46lup2/miniconda3/envs/llm/lib/python3.12/site-packages (from datasets->-r ../requirements.txt (line 9)) (3.9.3)\n",
      "Requirement already satisfied: responses<0.19 in /dss/dsshome1/0F/ra46lup2/miniconda3/envs/llm/lib/python3.12/site-packages (from evaluate->-r ../requirements.txt (line 10)) (0.18.0)\n",
      "Requirement already satisfied: contourpy>=1.0.1 in /dss/dsshome1/0F/ra46lup2/miniconda3/envs/llm/lib/python3.12/site-packages (from matplotlib->-r ../requirements.txt (line 12)) (1.2.0)\n",
      "Requirement already satisfied: cycler>=0.10 in /dss/dsshome1/0F/ra46lup2/miniconda3/envs/llm/lib/python3.12/site-packages (from matplotlib->-r ../requirements.txt (line 12)) (0.11.0)\n",
      "Requirement already satisfied: fonttools>=4.22.0 in /dss/dsshome1/0F/ra46lup2/miniconda3/envs/llm/lib/python3.12/site-packages (from matplotlib->-r ../requirements.txt (line 12)) (4.25.0)\n",
      "Requirement already satisfied: kiwisolver>=1.0.1 in /dss/dsshome1/0F/ra46lup2/miniconda3/envs/llm/lib/python3.12/site-packages (from matplotlib->-r ../requirements.txt (line 12)) (1.4.4)\n",
      "Requirement already satisfied: pillow>=6.2.0 in /dss/dsshome1/0F/ra46lup2/miniconda3/envs/llm/lib/python3.12/site-packages (from matplotlib->-r ../requirements.txt (line 12)) (10.0.1)\n",
      "Requirement already satisfied: pyparsing>=2.3.1 in /dss/dsshome1/0F/ra46lup2/miniconda3/envs/llm/lib/python3.12/site-packages (from matplotlib->-r ../requirements.txt (line 12)) (3.0.9)\n",
      "Requirement already satisfied: python-dateutil>=2.7 in /dss/dsshome1/0F/ra46lup2/miniconda3/envs/llm/lib/python3.12/site-packages (from matplotlib->-r ../requirements.txt (line 12)) (2.8.2)\n",
      "Requirement already satisfied: tenacity>=6.2.0 in /dss/dsshome1/0F/ra46lup2/miniconda3/envs/llm/lib/python3.12/site-packages (from plotly->-r ../requirements.txt (line 13)) (8.2.3)\n",
      "Requirement already satisfied: six in /dss/dsshome1/0F/ra46lup2/miniconda3/envs/llm/lib/python3.12/site-packages (from langdetect->-r ../requirements.txt (line 14)) (1.16.0)\n",
      "Requirement already satisfied: beautifulsoup4<5.0.0,>=4.9.1 in /dss/dsshome1/0F/ra46lup2/miniconda3/envs/llm/lib/python3.12/site-packages (from deep-translator->-r ../requirements.txt (line 15)) (4.12.3)\n",
      "Requirement already satisfied: soupsieve>1.2 in /dss/dsshome1/0F/ra46lup2/miniconda3/envs/llm/lib/python3.12/site-packages (from beautifulsoup4<5.0.0,>=4.9.1->deep-translator->-r ../requirements.txt (line 15)) (2.5)\n",
      "Requirement already satisfied: aiosignal>=1.1.2 in /dss/dsshome1/0F/ra46lup2/miniconda3/envs/llm/lib/python3.12/site-packages (from aiohttp->datasets->-r ../requirements.txt (line 9)) (1.3.1)\n",
      "Requirement already satisfied: attrs>=17.3.0 in /dss/dsshome1/0F/ra46lup2/miniconda3/envs/llm/lib/python3.12/site-packages (from aiohttp->datasets->-r ../requirements.txt (line 9)) (23.2.0)\n",
      "Requirement already satisfied: frozenlist>=1.1.1 in /dss/dsshome1/0F/ra46lup2/miniconda3/envs/llm/lib/python3.12/site-packages (from aiohttp->datasets->-r ../requirements.txt (line 9)) (1.4.1)\n",
      "Requirement already satisfied: multidict<7.0,>=4.5 in /dss/dsshome1/0F/ra46lup2/miniconda3/envs/llm/lib/python3.12/site-packages (from aiohttp->datasets->-r ../requirements.txt (line 9)) (6.0.5)\n",
      "Requirement already satisfied: yarl<2.0,>=1.0 in /dss/dsshome1/0F/ra46lup2/miniconda3/envs/llm/lib/python3.12/site-packages (from aiohttp->datasets->-r ../requirements.txt (line 9)) (1.9.4)\n",
      "Requirement already satisfied: gitdb<5,>=4.0.1 in /dss/dsshome1/0F/ra46lup2/miniconda3/envs/llm/lib/python3.12/site-packages (from GitPython!=3.1.29,>=1.0.0->wandb->-r ../requirements.txt (line 7)) (4.0.11)\n",
      "Requirement already satisfied: typing-extensions>=3.7.4.3 in /dss/dsshome1/0F/ra46lup2/miniconda3/envs/llm/lib/python3.12/site-packages (from huggingface-hub<1.0,>=0.19.3->transformers->-r ../requirements.txt (line 3)) (4.9.0)\n",
      "Requirement already satisfied: pytz>=2020.1 in /dss/dsshome1/0F/ra46lup2/miniconda3/envs/llm/lib/python3.12/site-packages (from pandas->datasets->-r ../requirements.txt (line 9)) (2023.3.post1)\n",
      "Requirement already satisfied: tzdata>=2022.1 in /dss/dsshome1/0F/ra46lup2/miniconda3/envs/llm/lib/python3.12/site-packages (from pandas->datasets->-r ../requirements.txt (line 9)) (2023.3)\n",
      "Requirement already satisfied: charset-normalizer<4,>=2 in /dss/dsshome1/0F/ra46lup2/miniconda3/envs/llm/lib/python3.12/site-packages (from requests->transformers->-r ../requirements.txt (line 3)) (3.3.2)\n",
      "Requirement already satisfied: idna<4,>=2.5 in /dss/dsshome1/0F/ra46lup2/miniconda3/envs/llm/lib/python3.12/site-packages (from requests->transformers->-r ../requirements.txt (line 3)) (3.6)\n",
      "Requirement already satisfied: urllib3<3,>=1.21.1 in /dss/dsshome1/0F/ra46lup2/miniconda3/envs/llm/lib/python3.12/site-packages (from requests->transformers->-r ../requirements.txt (line 3)) (2.2.0)\n",
      "Requirement already satisfied: certifi>=2017.4.17 in /dss/dsshome1/0F/ra46lup2/miniconda3/envs/llm/lib/python3.12/site-packages (from requests->transformers->-r ../requirements.txt (line 3)) (2024.2.2)\n",
      "Requirement already satisfied: sympy in /dss/dsshome1/0F/ra46lup2/miniconda3/envs/llm/lib/python3.12/site-packages (from torch>=1.10.0->accelerate->-r ../requirements.txt (line 4)) (1.12)\n",
      "Requirement already satisfied: networkx in /dss/dsshome1/0F/ra46lup2/miniconda3/envs/llm/lib/python3.12/site-packages (from torch>=1.10.0->accelerate->-r ../requirements.txt (line 4)) (3.2.1)\n",
      "Requirement already satisfied: jinja2 in /dss/dsshome1/0F/ra46lup2/miniconda3/envs/llm/lib/python3.12/site-packages (from torch>=1.10.0->accelerate->-r ../requirements.txt (line 4)) (3.1.3)\n",
      "Requirement already satisfied: nvidia-cuda-nvrtc-cu12==12.1.105 in /dss/dsshome1/0F/ra46lup2/miniconda3/envs/llm/lib/python3.12/site-packages (from torch>=1.10.0->accelerate->-r ../requirements.txt (line 4)) (12.1.105)\n",
      "Requirement already satisfied: nvidia-cuda-runtime-cu12==12.1.105 in /dss/dsshome1/0F/ra46lup2/miniconda3/envs/llm/lib/python3.12/site-packages (from torch>=1.10.0->accelerate->-r ../requirements.txt (line 4)) (12.1.105)\n",
      "Requirement already satisfied: nvidia-cuda-cupti-cu12==12.1.105 in /dss/dsshome1/0F/ra46lup2/miniconda3/envs/llm/lib/python3.12/site-packages (from torch>=1.10.0->accelerate->-r ../requirements.txt (line 4)) (12.1.105)\n",
      "Requirement already satisfied: nvidia-cudnn-cu12==8.9.2.26 in /dss/dsshome1/0F/ra46lup2/miniconda3/envs/llm/lib/python3.12/site-packages (from torch>=1.10.0->accelerate->-r ../requirements.txt (line 4)) (8.9.2.26)\n",
      "Requirement already satisfied: nvidia-cublas-cu12==12.1.3.1 in /dss/dsshome1/0F/ra46lup2/miniconda3/envs/llm/lib/python3.12/site-packages (from torch>=1.10.0->accelerate->-r ../requirements.txt (line 4)) (12.1.3.1)\n",
      "Requirement already satisfied: nvidia-cufft-cu12==11.0.2.54 in /dss/dsshome1/0F/ra46lup2/miniconda3/envs/llm/lib/python3.12/site-packages (from torch>=1.10.0->accelerate->-r ../requirements.txt (line 4)) (11.0.2.54)\n",
      "Requirement already satisfied: nvidia-curand-cu12==10.3.2.106 in /dss/dsshome1/0F/ra46lup2/miniconda3/envs/llm/lib/python3.12/site-packages (from torch>=1.10.0->accelerate->-r ../requirements.txt (line 4)) (10.3.2.106)\n",
      "Requirement already satisfied: nvidia-cusolver-cu12==11.4.5.107 in /dss/dsshome1/0F/ra46lup2/miniconda3/envs/llm/lib/python3.12/site-packages (from torch>=1.10.0->accelerate->-r ../requirements.txt (line 4)) (11.4.5.107)\n",
      "Requirement already satisfied: nvidia-cusparse-cu12==12.1.0.106 in /dss/dsshome1/0F/ra46lup2/miniconda3/envs/llm/lib/python3.12/site-packages (from torch>=1.10.0->accelerate->-r ../requirements.txt (line 4)) (12.1.0.106)\n",
      "Requirement already satisfied: nvidia-nccl-cu12==2.19.3 in /dss/dsshome1/0F/ra46lup2/miniconda3/envs/llm/lib/python3.12/site-packages (from torch>=1.10.0->accelerate->-r ../requirements.txt (line 4)) (2.19.3)\n",
      "Requirement already satisfied: nvidia-nvtx-cu12==12.1.105 in /dss/dsshome1/0F/ra46lup2/miniconda3/envs/llm/lib/python3.12/site-packages (from torch>=1.10.0->accelerate->-r ../requirements.txt (line 4)) (12.1.105)\n",
      "Requirement already satisfied: triton==2.2.0 in /dss/dsshome1/0F/ra46lup2/miniconda3/envs/llm/lib/python3.12/site-packages (from torch>=1.10.0->accelerate->-r ../requirements.txt (line 4)) (2.2.0)\n",
      "Requirement already satisfied: nvidia-nvjitlink-cu12 in /dss/dsshome1/0F/ra46lup2/miniconda3/envs/llm/lib/python3.12/site-packages (from nvidia-cusolver-cu12==11.4.5.107->torch>=1.10.0->accelerate->-r ../requirements.txt (line 4)) (12.3.101)\n",
      "Requirement already satisfied: smmap<6,>=3.0.1 in /dss/dsshome1/0F/ra46lup2/miniconda3/envs/llm/lib/python3.12/site-packages (from gitdb<5,>=4.0.1->GitPython!=3.1.29,>=1.0.0->wandb->-r ../requirements.txt (line 7)) (5.0.1)\n",
      "Requirement already satisfied: MarkupSafe>=2.0 in /dss/dsshome1/0F/ra46lup2/miniconda3/envs/llm/lib/python3.12/site-packages (from jinja2->torch>=1.10.0->accelerate->-r ../requirements.txt (line 4)) (2.1.5)\n",
      "Requirement already satisfied: mpmath>=0.19 in /dss/dsshome1/0F/ra46lup2/miniconda3/envs/llm/lib/python3.12/site-packages (from sympy->torch>=1.10.0->accelerate->-r ../requirements.txt (line 4)) (1.3.0)\n",
      "Installing collected packages: src\n",
      "  Attempting uninstall: src\n",
      "    Found existing installation: src 0.1.0\n",
      "    Uninstalling src-0.1.0:\n",
      "      Successfully uninstalled src-0.1.0\n",
      "  Running setup.py develop for src\n",
      "Successfully installed src-0.1.0\n",
      "Note: you may need to restart the kernel to use updated packages.\n"
     ]
    }
   ],
   "source": [
    "pip install -r ../requirements.txt"
   ]
  },
  {
   "cell_type": "code",
   "execution_count": null,
   "metadata": {},
   "outputs": [],
   "source": []
  },
  {
   "cell_type": "code",
   "execution_count": null,
   "metadata": {},
   "outputs": [],
   "source": [
    "\n",
    "wave_number = 12\n",
    "prompt_fpath=os.path.join(PROMPT_DIR,'10_prompt_with_vocational_training.txt')  \n",
    "wave_df, wave_open_ended_df, df_coding_840s = load_raw_survey_data(wave_number)\n",
    "wave_open_ended_df = process_open_ended(wave_open_ended_df, df_coding_840s, wave_number)\n",
    "wave_df_processed = process_wave_data(wave_df, wave_open_ended_df, wave_number)\n",
    "wave_df_processed['formatted_prompt'] = wave_df_processed.apply(lambda row: format_prompt(prompt_fpath,row), axis=1)"
   ]
  },
  {
   "cell_type": "code",
   "execution_count": null,
   "metadata": {},
   "outputs": [],
   "source": [
    "import pandas as pd\n",
    "\n",
    "a= pd.read_csv('/dss/dsshome1/0F/ra46lup2/ma-yoztyurk/ZA7957_7707_v2.0.0/ZA7957_6838_v2.0.0.csv',sep=';').filter(regex=r'kp12_840_c').ge(0).astype(int).sum(axis=1)\n",
    "a= a[a>0]\n",
    "a.value_counts(1)"
   ]
  },
  {
   "cell_type": "code",
   "execution_count": null,
   "metadata": {},
   "outputs": [],
   "source": [
    "for i in range(10,21):\n",
    "    a= pd.read_csv('/dss/dsshome1/0F/ra46lup2/ma-yoztyurk/ZA7957_7707_v2.0.0/ZA7957_6838_v2.0.0.csv',sep=';').filter(regex=f'kp{i}_840_c').ge(0).astype(int).sum(axis=1)\n",
    "    a= a[a>0]\n",
    "    print('wave ',i)\n",
    "    print('%',a.value_counts(1).iloc[0] *100 ,'of answers have 1 label in wave',i)\n",
    "    print('%',a.value_counts(1).iloc[1] *100 ,'of answers have 2 labels in wave',i)\n",
    "    print('%',a.value_counts(1).iloc[2] *100 ,'of answers have 3 labels in wave',i)\n",
    "\n",
    "    print('- - - - - - -')\n"
   ]
  },
  {
   "cell_type": "code",
   "execution_count": null,
   "metadata": {},
   "outputs": [],
   "source": [
    "#pick last 20 cols\n",
    "wave_df_processed= wave_df_processed[wave_df_processed.kp12_2090a.notna()]\n",
    "wave_df_processed= wave_df_processed[wave_df_processed.kpx_840_class1_name.notna()]\n",
    "\n",
    "wave_df_processed[wave_df_processed['kpx_840_text'].str.len()>20].filter(regex='lfdn$|^age|gender|leaning_party|ostwest|edu|clause|kpx_840_text|kpx_840_class1_name')#.kp12_2090a.value_counts()\n",
    "#filter where len of kpx_840_text > 20 and kpx_840_text is not null\n"
   ]
  },
  {
   "cell_type": "code",
   "execution_count": null,
   "metadata": {},
   "outputs": [],
   "source": []
  },
  {
   "cell_type": "code",
   "execution_count": null,
   "metadata": {},
   "outputs": [],
   "source": [
    "from pprint import pprint\n",
    "\n",
    "ll=[]\n",
    "for row in wave_df_processed.formatted_prompt.iloc[40:55].values:\n",
    "    ll.append( row.split(\"<</SYS>>\",1)[1].strip(r'[/INST]')[:-9])\n",
    "    #print(row)\n",
    "    print( row.split(\"<</SYS>>\",1)[1].strip(r'[/INST]')[:-9])"
   ]
  },
  {
   "cell_type": "code",
   "execution_count": null,
   "metadata": {},
   "outputs": [],
   "source": [
    " \n",
    "\n",
    "cols_to_stratify = [\n",
    "'ostwest',\n",
    " 'leaning_party',\n",
    " 'gender',\n",
    " 'age_group',\n",
    "]\n",
    "\n",
    "strata_counts = wave_df_processed.groupby(cols_to_stratify).size().reset_index(name='counts').sort_values(by=\"counts\")\n",
    "strata_counts"
   ]
  },
  {
   "cell_type": "code",
   "execution_count": null,
   "metadata": {},
   "outputs": [],
   "source": []
  }
 ],
 "metadata": {
  "kernelspec": {
   "display_name": "Python 3 (ipykernel)",
   "language": "python",
   "name": "python3"
  },
  "language_info": {
   "codemirror_mode": {
    "name": "ipython",
    "version": 3
   },
   "file_extension": ".py",
   "mimetype": "text/x-python",
   "name": "python",
   "nbconvert_exporter": "python",
   "pygments_lexer": "ipython3",
   "version": "3.12.1"
  }
 },
 "nbformat": 4,
 "nbformat_minor": 4
}
