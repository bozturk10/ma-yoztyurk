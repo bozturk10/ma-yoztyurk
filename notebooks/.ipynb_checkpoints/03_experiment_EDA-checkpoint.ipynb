{
 "cells": [
  {
   "cell_type": "code",
   "execution_count": 1,
   "id": "bd4df1d4",
   "metadata": {},
   "outputs": [
    {
     "name": "stdout",
     "output_type": "stream",
     "text": [
      "Looking in indexes: https://pypi.org/simple, https://pypi.ngc.nvidia.com\n",
      "Obtaining file:///dss/dsshome1/0F/ra46lup2/ma-yoztyurk (from -r /dss/dsshome1/0F/ra46lup2/ma-yoztyurk/requirements.txt (line 1))\n",
      "  Preparing metadata (setup.py) ... \u001b[?25ldone\n",
      "\u001b[?25hCollecting transformers (from -r /dss/dsshome1/0F/ra46lup2/ma-yoztyurk/requirements.txt (line 3))\n",
      "  Downloading transformers-4.40.1-py3-none-any.whl.metadata (137 kB)\n",
      "\u001b[2K     \u001b[90m━━━━━━━━━━━━━━━━━━━━━━━━━━━━━━━━━━━━━━━\u001b[0m \u001b[32m138.0/138.0 kB\u001b[0m \u001b[31m2.6 MB/s\u001b[0m eta \u001b[36m0:00:00\u001b[0ma \u001b[36m0:00:01\u001b[0m\n",
      "\u001b[?25hCollecting accelerate (from -r /dss/dsshome1/0F/ra46lup2/ma-yoztyurk/requirements.txt (line 4))\n",
      "  Downloading accelerate-0.29.3-py3-none-any.whl.metadata (18 kB)\n",
      "Collecting SentencePiece (from -r /dss/dsshome1/0F/ra46lup2/ma-yoztyurk/requirements.txt (line 5))\n",
      "  Downloading sentencepiece-0.2.0-cp310-cp310-manylinux_2_17_x86_64.manylinux2014_x86_64.whl.metadata (7.7 kB)\n",
      "Collecting bitsandbytes (from -r /dss/dsshome1/0F/ra46lup2/ma-yoztyurk/requirements.txt (line 6))\n",
      "  Downloading bitsandbytes-0.43.1-py3-none-manylinux_2_24_x86_64.whl.metadata (2.2 kB)\n",
      "Collecting wandb (from -r /dss/dsshome1/0F/ra46lup2/ma-yoztyurk/requirements.txt (line 7))\n",
      "  Downloading wandb-0.16.6-py3-none-any.whl.metadata (10 kB)\n",
      "Requirement already satisfied: scikit-learn in /usr/local/lib/python3.10/dist-packages (from -r /dss/dsshome1/0F/ra46lup2/ma-yoztyurk/requirements.txt (line 8)) (1.2.0)\n",
      "Collecting datasets (from -r /dss/dsshome1/0F/ra46lup2/ma-yoztyurk/requirements.txt (line 9))\n",
      "  Downloading datasets-2.19.0-py3-none-any.whl.metadata (19 kB)\n",
      "Collecting evaluate (from -r /dss/dsshome1/0F/ra46lup2/ma-yoztyurk/requirements.txt (line 10))\n",
      "  Downloading evaluate-0.4.2-py3-none-any.whl.metadata (9.3 kB)\n",
      "Collecting seaborn (from -r /dss/dsshome1/0F/ra46lup2/ma-yoztyurk/requirements.txt (line 11))\n",
      "  Downloading seaborn-0.13.2-py3-none-any.whl.metadata (5.4 kB)\n",
      "Requirement already satisfied: matplotlib in /usr/local/lib/python3.10/dist-packages (from -r /dss/dsshome1/0F/ra46lup2/ma-yoztyurk/requirements.txt (line 12)) (3.8.2)\n",
      "Collecting plotly (from -r /dss/dsshome1/0F/ra46lup2/ma-yoztyurk/requirements.txt (line 13))\n",
      "  Downloading plotly-5.22.0-py3-none-any.whl.metadata (7.1 kB)\n",
      "Collecting langdetect (from -r /dss/dsshome1/0F/ra46lup2/ma-yoztyurk/requirements.txt (line 14))\n",
      "  Downloading langdetect-1.0.9.tar.gz (981 kB)\n",
      "\u001b[2K     \u001b[90m━━━━━━━━━━━━━━━━━━━━━━━━━━━━━━━━━━━━━━━\u001b[0m \u001b[32m981.5/981.5 kB\u001b[0m \u001b[31m9.2 MB/s\u001b[0m eta \u001b[36m0:00:00\u001b[0ma \u001b[36m0:00:01\u001b[0m\n",
      "\u001b[?25h  Preparing metadata (setup.py) ... \u001b[?25ldone\n",
      "\u001b[?25hCollecting deep-translator (from -r /dss/dsshome1/0F/ra46lup2/ma-yoztyurk/requirements.txt (line 15))\n",
      "  Downloading deep_translator-1.11.4-py3-none-any.whl.metadata (30 kB)\n",
      "Collecting python-dotenv (from -r /dss/dsshome1/0F/ra46lup2/ma-yoztyurk/requirements.txt (line 16))\n",
      "  Downloading python_dotenv-1.0.1-py3-none-any.whl.metadata (23 kB)\n",
      "Requirement already satisfied: filelock in /usr/local/lib/python3.10/dist-packages (from transformers->-r /dss/dsshome1/0F/ra46lup2/ma-yoztyurk/requirements.txt (line 3)) (3.13.1)\n",
      "Collecting huggingface-hub<1.0,>=0.19.3 (from transformers->-r /dss/dsshome1/0F/ra46lup2/ma-yoztyurk/requirements.txt (line 3))\n",
      "  Downloading huggingface_hub-0.23.0-py3-none-any.whl.metadata (12 kB)\n",
      "Requirement already satisfied: numpy>=1.17 in /usr/local/lib/python3.10/dist-packages (from transformers->-r /dss/dsshome1/0F/ra46lup2/ma-yoztyurk/requirements.txt (line 3)) (1.24.4)\n",
      "Requirement already satisfied: packaging>=20.0 in /usr/local/lib/python3.10/dist-packages (from transformers->-r /dss/dsshome1/0F/ra46lup2/ma-yoztyurk/requirements.txt (line 3)) (23.2)\n",
      "Requirement already satisfied: pyyaml>=5.1 in /usr/local/lib/python3.10/dist-packages (from transformers->-r /dss/dsshome1/0F/ra46lup2/ma-yoztyurk/requirements.txt (line 3)) (6.0.1)\n",
      "Requirement already satisfied: regex!=2019.12.17 in /usr/local/lib/python3.10/dist-packages (from transformers->-r /dss/dsshome1/0F/ra46lup2/ma-yoztyurk/requirements.txt (line 3)) (2023.12.25)\n",
      "Requirement already satisfied: requests in /usr/local/lib/python3.10/dist-packages (from transformers->-r /dss/dsshome1/0F/ra46lup2/ma-yoztyurk/requirements.txt (line 3)) (2.31.0)\n",
      "Collecting tokenizers<0.20,>=0.19 (from transformers->-r /dss/dsshome1/0F/ra46lup2/ma-yoztyurk/requirements.txt (line 3))\n",
      "  Downloading tokenizers-0.19.1-cp310-cp310-manylinux_2_17_x86_64.manylinux2014_x86_64.whl.metadata (6.7 kB)\n",
      "Collecting safetensors>=0.4.1 (from transformers->-r /dss/dsshome1/0F/ra46lup2/ma-yoztyurk/requirements.txt (line 3))\n",
      "  Downloading safetensors-0.4.3-cp310-cp310-manylinux_2_17_x86_64.manylinux2014_x86_64.whl.metadata (3.8 kB)\n",
      "Requirement already satisfied: tqdm>=4.27 in /usr/local/lib/python3.10/dist-packages (from transformers->-r /dss/dsshome1/0F/ra46lup2/ma-yoztyurk/requirements.txt (line 3)) (4.66.1)\n",
      "Requirement already satisfied: psutil in /usr/local/lib/python3.10/dist-packages (from accelerate->-r /dss/dsshome1/0F/ra46lup2/ma-yoztyurk/requirements.txt (line 4)) (5.9.4)\n",
      "Requirement already satisfied: torch>=1.10.0 in /usr/local/lib/python3.10/dist-packages (from accelerate->-r /dss/dsshome1/0F/ra46lup2/ma-yoztyurk/requirements.txt (line 4)) (2.3.0a0+ebedce2)\n",
      "Requirement already satisfied: Click!=8.0.0,>=7.1 in /usr/local/lib/python3.10/dist-packages (from wandb->-r /dss/dsshome1/0F/ra46lup2/ma-yoztyurk/requirements.txt (line 7)) (8.1.7)\n",
      "Collecting GitPython!=3.1.29,>=1.0.0 (from wandb->-r /dss/dsshome1/0F/ra46lup2/ma-yoztyurk/requirements.txt (line 7))\n",
      "  Downloading GitPython-3.1.43-py3-none-any.whl.metadata (13 kB)\n",
      "Collecting sentry-sdk>=1.0.0 (from wandb->-r /dss/dsshome1/0F/ra46lup2/ma-yoztyurk/requirements.txt (line 7))\n",
      "  Downloading sentry_sdk-2.0.1-py2.py3-none-any.whl.metadata (9.9 kB)\n",
      "Collecting docker-pycreds>=0.4.0 (from wandb->-r /dss/dsshome1/0F/ra46lup2/ma-yoztyurk/requirements.txt (line 7))\n",
      "  Downloading docker_pycreds-0.4.0-py2.py3-none-any.whl.metadata (1.8 kB)\n",
      "Collecting setproctitle (from wandb->-r /dss/dsshome1/0F/ra46lup2/ma-yoztyurk/requirements.txt (line 7))\n",
      "  Downloading setproctitle-1.3.3-cp310-cp310-manylinux_2_5_x86_64.manylinux1_x86_64.manylinux_2_17_x86_64.manylinux2014_x86_64.whl.metadata (9.9 kB)\n",
      "Requirement already satisfied: setuptools in /usr/local/lib/python3.10/dist-packages (from wandb->-r /dss/dsshome1/0F/ra46lup2/ma-yoztyurk/requirements.txt (line 7)) (68.2.2)\n",
      "Collecting appdirs>=1.4.3 (from wandb->-r /dss/dsshome1/0F/ra46lup2/ma-yoztyurk/requirements.txt (line 7))\n",
      "  Downloading appdirs-1.4.4-py2.py3-none-any.whl.metadata (9.0 kB)\n",
      "Requirement already satisfied: protobuf!=4.21.0,<5,>=3.19.0 in /usr/local/lib/python3.10/dist-packages (from wandb->-r /dss/dsshome1/0F/ra46lup2/ma-yoztyurk/requirements.txt (line 7)) (4.24.4)\n",
      "Requirement already satisfied: scipy>=1.3.2 in /usr/local/lib/python3.10/dist-packages (from scikit-learn->-r /dss/dsshome1/0F/ra46lup2/ma-yoztyurk/requirements.txt (line 8)) (1.12.0)\n",
      "Requirement already satisfied: joblib>=1.1.1 in /usr/local/lib/python3.10/dist-packages (from scikit-learn->-r /dss/dsshome1/0F/ra46lup2/ma-yoztyurk/requirements.txt (line 8)) (1.3.2)\n",
      "Requirement already satisfied: threadpoolctl>=2.0.0 in /usr/local/lib/python3.10/dist-packages (from scikit-learn->-r /dss/dsshome1/0F/ra46lup2/ma-yoztyurk/requirements.txt (line 8)) (3.2.0)\n",
      "Requirement already satisfied: pyarrow>=12.0.0 in /usr/local/lib/python3.10/dist-packages (from datasets->-r /dss/dsshome1/0F/ra46lup2/ma-yoztyurk/requirements.txt (line 9)) (14.0.1.dev0+gba5374836.d20240125)\n",
      "Collecting pyarrow-hotfix (from datasets->-r /dss/dsshome1/0F/ra46lup2/ma-yoztyurk/requirements.txt (line 9))\n",
      "  Downloading pyarrow_hotfix-0.6-py3-none-any.whl.metadata (3.6 kB)\n",
      "Collecting dill<0.3.9,>=0.3.0 (from datasets->-r /dss/dsshome1/0F/ra46lup2/ma-yoztyurk/requirements.txt (line 9))\n",
      "  Downloading dill-0.3.8-py3-none-any.whl.metadata (10 kB)\n",
      "Requirement already satisfied: pandas in /usr/local/lib/python3.10/dist-packages (from datasets->-r /dss/dsshome1/0F/ra46lup2/ma-yoztyurk/requirements.txt (line 9)) (1.5.3)\n",
      "Collecting xxhash (from datasets->-r /dss/dsshome1/0F/ra46lup2/ma-yoztyurk/requirements.txt (line 9))\n",
      "  Downloading xxhash-3.4.1-cp310-cp310-manylinux_2_17_x86_64.manylinux2014_x86_64.whl.metadata (12 kB)\n",
      "Collecting multiprocess (from datasets->-r /dss/dsshome1/0F/ra46lup2/ma-yoztyurk/requirements.txt (line 9))\n",
      "  Downloading multiprocess-0.70.16-py310-none-any.whl.metadata (7.2 kB)\n",
      "Requirement already satisfied: fsspec<=2024.3.1,>=2023.1.0 in /usr/local/lib/python3.10/dist-packages (from fsspec[http]<=2024.3.1,>=2023.1.0->datasets->-r /dss/dsshome1/0F/ra46lup2/ma-yoztyurk/requirements.txt (line 9)) (2023.12.2)\n",
      "Requirement already satisfied: aiohttp in /usr/local/lib/python3.10/dist-packages (from datasets->-r /dss/dsshome1/0F/ra46lup2/ma-yoztyurk/requirements.txt (line 9)) (3.9.1)\n",
      "Requirement already satisfied: contourpy>=1.0.1 in /usr/local/lib/python3.10/dist-packages (from matplotlib->-r /dss/dsshome1/0F/ra46lup2/ma-yoztyurk/requirements.txt (line 12)) (1.2.0)\n",
      "Requirement already satisfied: cycler>=0.10 in /usr/local/lib/python3.10/dist-packages (from matplotlib->-r /dss/dsshome1/0F/ra46lup2/ma-yoztyurk/requirements.txt (line 12)) (0.12.1)\n",
      "Requirement already satisfied: fonttools>=4.22.0 in /usr/local/lib/python3.10/dist-packages (from matplotlib->-r /dss/dsshome1/0F/ra46lup2/ma-yoztyurk/requirements.txt (line 12)) (4.48.1)\n",
      "Requirement already satisfied: kiwisolver>=1.3.1 in /usr/local/lib/python3.10/dist-packages (from matplotlib->-r /dss/dsshome1/0F/ra46lup2/ma-yoztyurk/requirements.txt (line 12)) (1.4.5)\n",
      "Requirement already satisfied: pillow>=8 in /usr/local/lib/python3.10/dist-packages (from matplotlib->-r /dss/dsshome1/0F/ra46lup2/ma-yoztyurk/requirements.txt (line 12)) (10.2.0)\n",
      "Requirement already satisfied: pyparsing>=2.3.1 in /usr/local/lib/python3.10/dist-packages (from matplotlib->-r /dss/dsshome1/0F/ra46lup2/ma-yoztyurk/requirements.txt (line 12)) (3.1.1)\n",
      "Requirement already satisfied: python-dateutil>=2.7 in /usr/local/lib/python3.10/dist-packages (from matplotlib->-r /dss/dsshome1/0F/ra46lup2/ma-yoztyurk/requirements.txt (line 12)) (2.8.2)\n",
      "Collecting tenacity>=6.2.0 (from plotly->-r /dss/dsshome1/0F/ra46lup2/ma-yoztyurk/requirements.txt (line 13))\n",
      "  Downloading tenacity-8.2.3-py3-none-any.whl.metadata (1.0 kB)\n",
      "Requirement already satisfied: six in /usr/local/lib/python3.10/dist-packages (from langdetect->-r /dss/dsshome1/0F/ra46lup2/ma-yoztyurk/requirements.txt (line 14)) (1.16.0)\n",
      "Requirement already satisfied: beautifulsoup4<5.0.0,>=4.9.1 in /usr/local/lib/python3.10/dist-packages (from deep-translator->-r /dss/dsshome1/0F/ra46lup2/ma-yoztyurk/requirements.txt (line 15)) (4.12.3)\n",
      "Requirement already satisfied: soupsieve>1.2 in /usr/local/lib/python3.10/dist-packages (from beautifulsoup4<5.0.0,>=4.9.1->deep-translator->-r /dss/dsshome1/0F/ra46lup2/ma-yoztyurk/requirements.txt (line 15)) (2.5)\n",
      "Requirement already satisfied: attrs>=17.3.0 in /usr/local/lib/python3.10/dist-packages (from aiohttp->datasets->-r /dss/dsshome1/0F/ra46lup2/ma-yoztyurk/requirements.txt (line 9)) (23.2.0)\n",
      "Requirement already satisfied: multidict<7.0,>=4.5 in /usr/local/lib/python3.10/dist-packages (from aiohttp->datasets->-r /dss/dsshome1/0F/ra46lup2/ma-yoztyurk/requirements.txt (line 9)) (6.0.4)\n",
      "Requirement already satisfied: yarl<2.0,>=1.0 in /usr/local/lib/python3.10/dist-packages (from aiohttp->datasets->-r /dss/dsshome1/0F/ra46lup2/ma-yoztyurk/requirements.txt (line 9)) (1.9.4)\n",
      "Requirement already satisfied: frozenlist>=1.1.1 in /usr/local/lib/python3.10/dist-packages (from aiohttp->datasets->-r /dss/dsshome1/0F/ra46lup2/ma-yoztyurk/requirements.txt (line 9)) (1.4.1)\n",
      "Requirement already satisfied: aiosignal>=1.1.2 in /usr/local/lib/python3.10/dist-packages (from aiohttp->datasets->-r /dss/dsshome1/0F/ra46lup2/ma-yoztyurk/requirements.txt (line 9)) (1.3.1)\n",
      "Requirement already satisfied: async-timeout<5.0,>=4.0 in /usr/local/lib/python3.10/dist-packages (from aiohttp->datasets->-r /dss/dsshome1/0F/ra46lup2/ma-yoztyurk/requirements.txt (line 9)) (4.0.3)\n",
      "Collecting gitdb<5,>=4.0.1 (from GitPython!=3.1.29,>=1.0.0->wandb->-r /dss/dsshome1/0F/ra46lup2/ma-yoztyurk/requirements.txt (line 7))\n",
      "  Downloading gitdb-4.0.11-py3-none-any.whl.metadata (1.2 kB)\n",
      "Requirement already satisfied: typing-extensions>=3.7.4.3 in /usr/local/lib/python3.10/dist-packages (from huggingface-hub<1.0,>=0.19.3->transformers->-r /dss/dsshome1/0F/ra46lup2/ma-yoztyurk/requirements.txt (line 3)) (4.9.0)\n",
      "Requirement already satisfied: pytz>=2020.1 in /usr/local/lib/python3.10/dist-packages (from pandas->datasets->-r /dss/dsshome1/0F/ra46lup2/ma-yoztyurk/requirements.txt (line 9)) (2023.3.post1)\n",
      "Requirement already satisfied: charset-normalizer<4,>=2 in /usr/local/lib/python3.10/dist-packages (from requests->transformers->-r /dss/dsshome1/0F/ra46lup2/ma-yoztyurk/requirements.txt (line 3)) (3.3.2)\n",
      "Requirement already satisfied: idna<4,>=2.5 in /usr/local/lib/python3.10/dist-packages (from requests->transformers->-r /dss/dsshome1/0F/ra46lup2/ma-yoztyurk/requirements.txt (line 3)) (3.6)\n",
      "Requirement already satisfied: urllib3<3,>=1.21.1 in /usr/local/lib/python3.10/dist-packages (from requests->transformers->-r /dss/dsshome1/0F/ra46lup2/ma-yoztyurk/requirements.txt (line 3)) (1.26.18)\n",
      "Requirement already satisfied: certifi>=2017.4.17 in /usr/local/lib/python3.10/dist-packages (from requests->transformers->-r /dss/dsshome1/0F/ra46lup2/ma-yoztyurk/requirements.txt (line 3)) (2024.2.2)\n",
      "Requirement already satisfied: sympy in /usr/local/lib/python3.10/dist-packages (from torch>=1.10.0->accelerate->-r /dss/dsshome1/0F/ra46lup2/ma-yoztyurk/requirements.txt (line 4)) (1.12)\n",
      "Requirement already satisfied: networkx in /usr/local/lib/python3.10/dist-packages (from torch>=1.10.0->accelerate->-r /dss/dsshome1/0F/ra46lup2/ma-yoztyurk/requirements.txt (line 4)) (2.6.3)\n",
      "Requirement already satisfied: jinja2 in /usr/local/lib/python3.10/dist-packages (from torch>=1.10.0->accelerate->-r /dss/dsshome1/0F/ra46lup2/ma-yoztyurk/requirements.txt (line 4)) (3.1.3)\n",
      "Collecting smmap<6,>=3.0.1 (from gitdb<5,>=4.0.1->GitPython!=3.1.29,>=1.0.0->wandb->-r /dss/dsshome1/0F/ra46lup2/ma-yoztyurk/requirements.txt (line 7))\n",
      "  Downloading smmap-5.0.1-py3-none-any.whl.metadata (4.3 kB)\n",
      "Requirement already satisfied: MarkupSafe>=2.0 in /usr/local/lib/python3.10/dist-packages (from jinja2->torch>=1.10.0->accelerate->-r /dss/dsshome1/0F/ra46lup2/ma-yoztyurk/requirements.txt (line 4)) (2.1.4)\n",
      "Requirement already satisfied: mpmath>=0.19 in /usr/local/lib/python3.10/dist-packages (from sympy->torch>=1.10.0->accelerate->-r /dss/dsshome1/0F/ra46lup2/ma-yoztyurk/requirements.txt (line 4)) (1.3.0)\n",
      "Downloading transformers-4.40.1-py3-none-any.whl (9.0 MB)\n",
      "\u001b[2K   \u001b[90m━━━━━━━━━━━━━━━━━━━━━━━━━━━━━━━━━━━━━━━━\u001b[0m \u001b[32m9.0/9.0 MB\u001b[0m \u001b[31m27.8 MB/s\u001b[0m eta \u001b[36m0:00:00\u001b[0ma \u001b[36m0:00:01\u001b[0m\n",
      "\u001b[?25hDownloading accelerate-0.29.3-py3-none-any.whl (297 kB)\n",
      "\u001b[2K   \u001b[90m━━━━━━━━━━━━━━━━━━━━━━━━━━━━━━━━━━━━━━━\u001b[0m \u001b[32m297.6/297.6 kB\u001b[0m \u001b[31m123.7 MB/s\u001b[0m eta \u001b[36m0:00:00\u001b[0m\n",
      "\u001b[?25hDownloading sentencepiece-0.2.0-cp310-cp310-manylinux_2_17_x86_64.manylinux2014_x86_64.whl (1.3 MB)\n",
      "\u001b[2K   \u001b[90m━━━━━━━━━━━━━━━━━━━━━━━━━━━━━━━━━━━━━━━━\u001b[0m \u001b[32m1.3/1.3 MB\u001b[0m \u001b[31m64.3 MB/s\u001b[0m eta \u001b[36m0:00:00\u001b[0m\n",
      "\u001b[?25hDownloading bitsandbytes-0.43.1-py3-none-manylinux_2_24_x86_64.whl (119.8 MB)\n",
      "\u001b[2K   \u001b[90m━━━━━━━━━━━━━━━━━━━━━━━━━━━━━━━━━━━━━━━\u001b[0m \u001b[32m119.8/119.8 MB\u001b[0m \u001b[31m114.4 MB/s\u001b[0m eta \u001b[36m0:00:00\u001b[0ma \u001b[36m0:00:01\u001b[0m\n",
      "\u001b[?25hDownloading wandb-0.16.6-py3-none-any.whl (2.2 MB)\n",
      "\u001b[2K   \u001b[90m━━━━━━━━━━━━━━━━━━━━━━━━━━━━━━━━━━━━━━━━\u001b[0m \u001b[32m2.2/2.2 MB\u001b[0m \u001b[31m134.3 MB/s\u001b[0m eta \u001b[36m0:00:00\u001b[0m\n",
      "\u001b[?25hDownloading datasets-2.19.0-py3-none-any.whl (542 kB)\n",
      "\u001b[2K   \u001b[90m━━━━━━━━━━━━━━━━━━━━━━━━━━━━━━━━━━━━━━━\u001b[0m \u001b[32m542.0/542.0 kB\u001b[0m \u001b[31m132.7 MB/s\u001b[0m eta \u001b[36m0:00:00\u001b[0m\n",
      "\u001b[?25hDownloading evaluate-0.4.2-py3-none-any.whl (84 kB)\n",
      "\u001b[2K   \u001b[90m━━━━━━━━━━━━━━━━━━━━━━━━━━━━━━━━━━━━━━━━\u001b[0m \u001b[32m84.1/84.1 kB\u001b[0m \u001b[31m95.0 MB/s\u001b[0m eta \u001b[36m0:00:00\u001b[0m\n",
      "\u001b[?25hDownloading seaborn-0.13.2-py3-none-any.whl (294 kB)\n",
      "\u001b[2K   \u001b[90m━━━━━━━━━━━━━━━━━━━━━━━━━━━━━━━━━━━━━━━\u001b[0m \u001b[32m294.9/294.9 kB\u001b[0m \u001b[31m130.4 MB/s\u001b[0m eta \u001b[36m0:00:00\u001b[0m\n",
      "\u001b[?25hDownloading plotly-5.22.0-py3-none-any.whl (16.4 MB)\n",
      "\u001b[2K   \u001b[90m━━━━━━━━━━━━━━━━━━━━━━━━━━━━━━━━━━━━━━━━\u001b[0m \u001b[32m16.4/16.4 MB\u001b[0m \u001b[31m116.7 MB/s\u001b[0m eta \u001b[36m0:00:00\u001b[0ma \u001b[36m0:00:01\u001b[0m\n",
      "\u001b[?25hDownloading deep_translator-1.11.4-py3-none-any.whl (42 kB)\n",
      "\u001b[2K   \u001b[90m━━━━━━━━━━━━━━━━━━━━━━━━━━━━━━━━━━━━━━━━\u001b[0m \u001b[32m42.3/42.3 kB\u001b[0m \u001b[31m90.0 MB/s\u001b[0m eta \u001b[36m0:00:00\u001b[0m\n",
      "\u001b[?25hDownloading python_dotenv-1.0.1-py3-none-any.whl (19 kB)\n",
      "Downloading appdirs-1.4.4-py2.py3-none-any.whl (9.6 kB)\n",
      "Downloading dill-0.3.8-py3-none-any.whl (116 kB)\n",
      "\u001b[2K   \u001b[90m━━━━━━━━━━━━━━━━━━━━━━━━━━━━━━━━━━━━━━━\u001b[0m \u001b[32m116.3/116.3 kB\u001b[0m \u001b[31m110.9 MB/s\u001b[0m eta \u001b[36m0:00:00\u001b[0m\n",
      "\u001b[?25hDownloading docker_pycreds-0.4.0-py2.py3-none-any.whl (9.0 kB)\n",
      "Downloading GitPython-3.1.43-py3-none-any.whl (207 kB)\n",
      "\u001b[2K   \u001b[90m━━━━━━━━━━━━━━━━━━━━━━━━━━━━━━━━━━━━━━━\u001b[0m \u001b[32m207.3/207.3 kB\u001b[0m \u001b[31m128.2 MB/s\u001b[0m eta \u001b[36m0:00:00\u001b[0m\n",
      "\u001b[?25hDownloading huggingface_hub-0.23.0-py3-none-any.whl (401 kB)\n",
      "\u001b[2K   \u001b[90m━━━━━━━━━━━━━━━━━━━━━━━━━━━━━━━━━━━━━━━\u001b[0m \u001b[32m401.2/401.2 kB\u001b[0m \u001b[31m128.0 MB/s\u001b[0m eta \u001b[36m0:00:00\u001b[0m\n",
      "\u001b[?25hDownloading safetensors-0.4.3-cp310-cp310-manylinux_2_17_x86_64.manylinux2014_x86_64.whl (1.2 MB)\n",
      "\u001b[2K   \u001b[90m━━━━━━━━━━━━━━━━━━━━━━━━━━━━━━━━━━━━━━━━\u001b[0m \u001b[32m1.2/1.2 MB\u001b[0m \u001b[31m130.7 MB/s\u001b[0m eta \u001b[36m0:00:00\u001b[0m\n",
      "\u001b[?25hDownloading sentry_sdk-2.0.1-py2.py3-none-any.whl (266 kB)\n",
      "\u001b[2K   \u001b[90m━━━━━━━━━━━━━━━━━━━━━━━━━━━━━━━━━━━━━━━\u001b[0m \u001b[32m266.8/266.8 kB\u001b[0m \u001b[31m128.1 MB/s\u001b[0m eta \u001b[36m0:00:00\u001b[0m\n",
      "\u001b[?25hDownloading tenacity-8.2.3-py3-none-any.whl (24 kB)\n",
      "Downloading tokenizers-0.19.1-cp310-cp310-manylinux_2_17_x86_64.manylinux2014_x86_64.whl (3.6 MB)\n",
      "\u001b[2K   \u001b[90m━━━━━━━━━━━━━━━━━━━━━━━━━━━━━━━━━━━━━━━━\u001b[0m \u001b[32m3.6/3.6 MB\u001b[0m \u001b[31m132.0 MB/s\u001b[0m eta \u001b[36m0:00:00\u001b[0m\n",
      "\u001b[?25hDownloading multiprocess-0.70.16-py310-none-any.whl (134 kB)\n",
      "\u001b[2K   \u001b[90m━━━━━━━━━━━━━━━━━━━━━━━━━━━━━━━━━━━━━━━\u001b[0m \u001b[32m134.8/134.8 kB\u001b[0m \u001b[31m119.2 MB/s\u001b[0m eta \u001b[36m0:00:00\u001b[0m\n",
      "\u001b[?25hDownloading pyarrow_hotfix-0.6-py3-none-any.whl (7.9 kB)\n",
      "Downloading setproctitle-1.3.3-cp310-cp310-manylinux_2_5_x86_64.manylinux1_x86_64.manylinux_2_17_x86_64.manylinux2014_x86_64.whl (30 kB)\n",
      "Downloading xxhash-3.4.1-cp310-cp310-manylinux_2_17_x86_64.manylinux2014_x86_64.whl (194 kB)\n",
      "\u001b[2K   \u001b[90m━━━━━━━━━━━━━━━━━━━━━━━━━━━━━━━━━━━━━━━\u001b[0m \u001b[32m194.1/194.1 kB\u001b[0m \u001b[31m124.1 MB/s\u001b[0m eta \u001b[36m0:00:00\u001b[0m\n",
      "\u001b[?25hDownloading gitdb-4.0.11-py3-none-any.whl (62 kB)\n",
      "\u001b[2K   \u001b[90m━━━━━━━━━━━━━━━━━━━━━━━━━━━━━━━━━━━━━━━━\u001b[0m \u001b[32m62.7/62.7 kB\u001b[0m \u001b[31m102.9 MB/s\u001b[0m eta \u001b[36m0:00:00\u001b[0m\n",
      "\u001b[?25hDownloading smmap-5.0.1-py3-none-any.whl (24 kB)\n",
      "Building wheels for collected packages: langdetect\n",
      "  Building wheel for langdetect (setup.py) ... \u001b[?25ldone\n",
      "\u001b[?25h  Created wheel for langdetect: filename=langdetect-1.0.9-py3-none-any.whl size=993225 sha256=6c935b3516bed7997e4895db89657d1d2dd64d439ad4c38f6201da69d3cd2820\n",
      "  Stored in directory: /tmp/pip-ephem-wheel-cache-lzh5_6z8/wheels/95/03/7d/59ea870c70ce4e5a370638b5462a7711ab78fba2f655d05106\n",
      "Successfully built langdetect\n",
      "Installing collected packages: src, SentencePiece, appdirs, xxhash, tenacity, smmap, setproctitle, sentry-sdk, safetensors, python-dotenv, pyarrow-hotfix, langdetect, docker-pycreds, dill, plotly, multiprocess, huggingface-hub, gitdb, deep-translator, tokenizers, seaborn, GitPython, bitsandbytes, accelerate, wandb, transformers, datasets, evaluate\n",
      "  Running setup.py develop for src\n",
      "Successfully installed GitPython-3.1.43 SentencePiece-0.2.0 accelerate-0.29.3 appdirs-1.4.4 bitsandbytes-0.43.1 datasets-2.19.0 deep-translator-1.11.4 dill-0.3.8 docker-pycreds-0.4.0 evaluate-0.4.2 gitdb-4.0.11 huggingface-hub-0.23.0 langdetect-1.0.9 multiprocess-0.70.16 plotly-5.22.0 pyarrow-hotfix-0.6 python-dotenv-1.0.1 safetensors-0.4.3 seaborn-0.13.2 sentry-sdk-2.0.1 setproctitle-1.3.3 smmap-5.0.1 src-0.1.0 tenacity-8.2.3 tokenizers-0.19.1 transformers-4.40.1 wandb-0.16.6 xxhash-3.4.1\n"
     ]
    }
   ],
   "source": [
    "!pip install -r /dss/dsshome1/0F/ra46lup2/ma-yoztyurk/requirements.txt"
   ]
  },
  {
   "cell_type": "code",
   "execution_count": 1,
   "id": "785ce6c0",
   "metadata": {},
   "outputs": [
    {
     "name": "stderr",
     "output_type": "stream",
     "text": [
      "/usr/local/lib/python3.10/dist-packages/tqdm/auto.py:21: TqdmWarning: IProgress not found. Please update jupyter and ipywidgets. See https://ipywidgets.readthedocs.io/en/stable/user_install.html\n",
      "  from .autonotebook import tqdm as notebook_tqdm\n"
     ]
    }
   ],
   "source": [
    "import json\n",
    "import os\n",
    "import re\n",
    "import time\n",
    "\n",
    "\n",
    "import pandas as pd\n",
    "import torch\n",
    "from tqdm import tqdm\n",
    "from transformers import AutoTokenizer, LlamaForCausalLM, LlamaTokenizer, pipeline\n",
    "import transformers\n",
    "import huggingface_hub\n",
    "\n",
    "\n",
    "os.environ['HUGGINGFACE_HUB_CACHE'] = '/dss/dssmcmlfs01/pr74ze/pr74ze-dss-0001/ra46lup2/.cache/huggingface/hub'"
   ]
  },
  {
   "cell_type": "code",
   "execution_count": 8,
   "id": "862b1c53",
   "metadata": {},
   "outputs": [
    {
     "data": {
      "text/plain": [
       "2186"
      ]
     },
     "execution_count": 8,
     "metadata": {},
     "output_type": "execute_result"
    }
   ],
   "source": [
    "from src.paths import CODING_DIR, PROJECT_DIR, RAW_DATA_DIR, PROCESSED_DATA_DIR, PROMPT_DIR, GLES_DIR\n"
   ]
  },
  {
   "cell_type": "code",
   "execution_count": 6,
   "id": "b0f9896d",
   "metadata": {},
   "outputs": [
    {
     "ename": "FileNotFoundError",
     "evalue": "[Errno 2] No such file or directory: '../../data/GLES/coding_list2.csv'",
     "output_type": "error",
     "traceback": [
      "\u001b[0;31m---------------------------------------------------------------------------\u001b[0m",
      "\u001b[0;31mFileNotFoundError\u001b[0m                         Traceback (most recent call last)",
      "Cell \u001b[0;32mIn[6], line 2\u001b[0m\n\u001b[1;32m      1\u001b[0m DATA_DIR\u001b[38;5;241m=\u001b[39m os\u001b[38;5;241m.\u001b[39mpath\u001b[38;5;241m.\u001b[39mjoin(\u001b[38;5;124m'\u001b[39m\u001b[38;5;124m..\u001b[39m\u001b[38;5;124m'\u001b[39m,\u001b[38;5;124m'\u001b[39m\u001b[38;5;124m..\u001b[39m\u001b[38;5;124m'\u001b[39m,\u001b[38;5;124m'\u001b[39m\u001b[38;5;124mdata\u001b[39m\u001b[38;5;124m'\u001b[39m)\n\u001b[0;32m----> 2\u001b[0m code_df\u001b[38;5;241m=\u001b[39m \u001b[43mpd\u001b[49m\u001b[38;5;241;43m.\u001b[39;49m\u001b[43mread_csv\u001b[49m\u001b[43m(\u001b[49m\u001b[43mos\u001b[49m\u001b[38;5;241;43m.\u001b[39;49m\u001b[43mpath\u001b[49m\u001b[38;5;241;43m.\u001b[39;49m\u001b[43mjoin\u001b[49m\u001b[43m(\u001b[49m\u001b[43mDATA_DIR\u001b[49m\u001b[43m,\u001b[49m\u001b[38;5;124;43mr\u001b[39;49m\u001b[38;5;124;43m\"\u001b[39;49m\u001b[38;5;124;43mGLES/coding_list2.csv\u001b[39;49m\u001b[38;5;124;43m\"\u001b[39;49m\u001b[43m)\u001b[49m\u001b[43m,\u001b[49m\u001b[43m \u001b[49m\u001b[43msep\u001b[49m\u001b[38;5;241;43m=\u001b[39;49m\u001b[38;5;124;43m'\u001b[39;49m\u001b[38;5;124;43m,\u001b[39;49m\u001b[38;5;124;43m'\u001b[39;49m\u001b[43m)\u001b[49m\n\u001b[1;32m      3\u001b[0m coding_list_dict \u001b[38;5;241m=\u001b[39m \u001b[38;5;28mdict\u001b[39m(\u001b[38;5;28mzip\u001b[39m(code_df\u001b[38;5;241m.\u001b[39mCode, code_df\u001b[38;5;241m.\u001b[39mCategory))\n\u001b[1;32m      4\u001b[0m coding_list_dict[\u001b[38;5;241m53\u001b[39m] \u001b[38;5;241m=\u001b[39m \u001b[38;5;124m'\u001b[39m\u001b[38;5;124mWohnungspolitik\u001b[39m\u001b[38;5;124m'\u001b[39m\n",
      "File \u001b[0;32m/usr/local/lib/python3.10/dist-packages/pandas/util/_decorators.py:211\u001b[0m, in \u001b[0;36mdeprecate_kwarg.<locals>._deprecate_kwarg.<locals>.wrapper\u001b[0;34m(*args, **kwargs)\u001b[0m\n\u001b[1;32m    209\u001b[0m     \u001b[38;5;28;01melse\u001b[39;00m:\n\u001b[1;32m    210\u001b[0m         kwargs[new_arg_name] \u001b[38;5;241m=\u001b[39m new_arg_value\n\u001b[0;32m--> 211\u001b[0m \u001b[38;5;28;01mreturn\u001b[39;00m \u001b[43mfunc\u001b[49m\u001b[43m(\u001b[49m\u001b[38;5;241;43m*\u001b[39;49m\u001b[43margs\u001b[49m\u001b[43m,\u001b[49m\u001b[43m \u001b[49m\u001b[38;5;241;43m*\u001b[39;49m\u001b[38;5;241;43m*\u001b[39;49m\u001b[43mkwargs\u001b[49m\u001b[43m)\u001b[49m\n",
      "File \u001b[0;32m/usr/local/lib/python3.10/dist-packages/pandas/util/_decorators.py:331\u001b[0m, in \u001b[0;36mdeprecate_nonkeyword_arguments.<locals>.decorate.<locals>.wrapper\u001b[0;34m(*args, **kwargs)\u001b[0m\n\u001b[1;32m    325\u001b[0m \u001b[38;5;28;01mif\u001b[39;00m \u001b[38;5;28mlen\u001b[39m(args) \u001b[38;5;241m>\u001b[39m num_allow_args:\n\u001b[1;32m    326\u001b[0m     warnings\u001b[38;5;241m.\u001b[39mwarn(\n\u001b[1;32m    327\u001b[0m         msg\u001b[38;5;241m.\u001b[39mformat(arguments\u001b[38;5;241m=\u001b[39m_format_argument_list(allow_args)),\n\u001b[1;32m    328\u001b[0m         \u001b[38;5;167;01mFutureWarning\u001b[39;00m,\n\u001b[1;32m    329\u001b[0m         stacklevel\u001b[38;5;241m=\u001b[39mfind_stack_level(),\n\u001b[1;32m    330\u001b[0m     )\n\u001b[0;32m--> 331\u001b[0m \u001b[38;5;28;01mreturn\u001b[39;00m \u001b[43mfunc\u001b[49m\u001b[43m(\u001b[49m\u001b[38;5;241;43m*\u001b[39;49m\u001b[43margs\u001b[49m\u001b[43m,\u001b[49m\u001b[43m \u001b[49m\u001b[38;5;241;43m*\u001b[39;49m\u001b[38;5;241;43m*\u001b[39;49m\u001b[43mkwargs\u001b[49m\u001b[43m)\u001b[49m\n",
      "File \u001b[0;32m/usr/local/lib/python3.10/dist-packages/pandas/io/parsers/readers.py:950\u001b[0m, in \u001b[0;36mread_csv\u001b[0;34m(filepath_or_buffer, sep, delimiter, header, names, index_col, usecols, squeeze, prefix, mangle_dupe_cols, dtype, engine, converters, true_values, false_values, skipinitialspace, skiprows, skipfooter, nrows, na_values, keep_default_na, na_filter, verbose, skip_blank_lines, parse_dates, infer_datetime_format, keep_date_col, date_parser, dayfirst, cache_dates, iterator, chunksize, compression, thousands, decimal, lineterminator, quotechar, quoting, doublequote, escapechar, comment, encoding, encoding_errors, dialect, error_bad_lines, warn_bad_lines, on_bad_lines, delim_whitespace, low_memory, memory_map, float_precision, storage_options)\u001b[0m\n\u001b[1;32m    935\u001b[0m kwds_defaults \u001b[38;5;241m=\u001b[39m _refine_defaults_read(\n\u001b[1;32m    936\u001b[0m     dialect,\n\u001b[1;32m    937\u001b[0m     delimiter,\n\u001b[0;32m   (...)\u001b[0m\n\u001b[1;32m    946\u001b[0m     defaults\u001b[38;5;241m=\u001b[39m{\u001b[38;5;124m\"\u001b[39m\u001b[38;5;124mdelimiter\u001b[39m\u001b[38;5;124m\"\u001b[39m: \u001b[38;5;124m\"\u001b[39m\u001b[38;5;124m,\u001b[39m\u001b[38;5;124m\"\u001b[39m},\n\u001b[1;32m    947\u001b[0m )\n\u001b[1;32m    948\u001b[0m kwds\u001b[38;5;241m.\u001b[39mupdate(kwds_defaults)\n\u001b[0;32m--> 950\u001b[0m \u001b[38;5;28;01mreturn\u001b[39;00m \u001b[43m_read\u001b[49m\u001b[43m(\u001b[49m\u001b[43mfilepath_or_buffer\u001b[49m\u001b[43m,\u001b[49m\u001b[43m \u001b[49m\u001b[43mkwds\u001b[49m\u001b[43m)\u001b[49m\n",
      "File \u001b[0;32m/usr/local/lib/python3.10/dist-packages/pandas/io/parsers/readers.py:605\u001b[0m, in \u001b[0;36m_read\u001b[0;34m(filepath_or_buffer, kwds)\u001b[0m\n\u001b[1;32m    602\u001b[0m _validate_names(kwds\u001b[38;5;241m.\u001b[39mget(\u001b[38;5;124m\"\u001b[39m\u001b[38;5;124mnames\u001b[39m\u001b[38;5;124m\"\u001b[39m, \u001b[38;5;28;01mNone\u001b[39;00m))\n\u001b[1;32m    604\u001b[0m \u001b[38;5;66;03m# Create the parser.\u001b[39;00m\n\u001b[0;32m--> 605\u001b[0m parser \u001b[38;5;241m=\u001b[39m \u001b[43mTextFileReader\u001b[49m\u001b[43m(\u001b[49m\u001b[43mfilepath_or_buffer\u001b[49m\u001b[43m,\u001b[49m\u001b[43m \u001b[49m\u001b[38;5;241;43m*\u001b[39;49m\u001b[38;5;241;43m*\u001b[39;49m\u001b[43mkwds\u001b[49m\u001b[43m)\u001b[49m\n\u001b[1;32m    607\u001b[0m \u001b[38;5;28;01mif\u001b[39;00m chunksize \u001b[38;5;129;01mor\u001b[39;00m iterator:\n\u001b[1;32m    608\u001b[0m     \u001b[38;5;28;01mreturn\u001b[39;00m parser\n",
      "File \u001b[0;32m/usr/local/lib/python3.10/dist-packages/pandas/io/parsers/readers.py:1442\u001b[0m, in \u001b[0;36mTextFileReader.__init__\u001b[0;34m(self, f, engine, **kwds)\u001b[0m\n\u001b[1;32m   1439\u001b[0m     \u001b[38;5;28mself\u001b[39m\u001b[38;5;241m.\u001b[39moptions[\u001b[38;5;124m\"\u001b[39m\u001b[38;5;124mhas_index_names\u001b[39m\u001b[38;5;124m\"\u001b[39m] \u001b[38;5;241m=\u001b[39m kwds[\u001b[38;5;124m\"\u001b[39m\u001b[38;5;124mhas_index_names\u001b[39m\u001b[38;5;124m\"\u001b[39m]\n\u001b[1;32m   1441\u001b[0m \u001b[38;5;28mself\u001b[39m\u001b[38;5;241m.\u001b[39mhandles: IOHandles \u001b[38;5;241m|\u001b[39m \u001b[38;5;28;01mNone\u001b[39;00m \u001b[38;5;241m=\u001b[39m \u001b[38;5;28;01mNone\u001b[39;00m\n\u001b[0;32m-> 1442\u001b[0m \u001b[38;5;28mself\u001b[39m\u001b[38;5;241m.\u001b[39m_engine \u001b[38;5;241m=\u001b[39m \u001b[38;5;28;43mself\u001b[39;49m\u001b[38;5;241;43m.\u001b[39;49m\u001b[43m_make_engine\u001b[49m\u001b[43m(\u001b[49m\u001b[43mf\u001b[49m\u001b[43m,\u001b[49m\u001b[43m \u001b[49m\u001b[38;5;28;43mself\u001b[39;49m\u001b[38;5;241;43m.\u001b[39;49m\u001b[43mengine\u001b[49m\u001b[43m)\u001b[49m\n",
      "File \u001b[0;32m/usr/local/lib/python3.10/dist-packages/pandas/io/parsers/readers.py:1735\u001b[0m, in \u001b[0;36mTextFileReader._make_engine\u001b[0;34m(self, f, engine)\u001b[0m\n\u001b[1;32m   1733\u001b[0m     \u001b[38;5;28;01mif\u001b[39;00m \u001b[38;5;124m\"\u001b[39m\u001b[38;5;124mb\u001b[39m\u001b[38;5;124m\"\u001b[39m \u001b[38;5;129;01mnot\u001b[39;00m \u001b[38;5;129;01min\u001b[39;00m mode:\n\u001b[1;32m   1734\u001b[0m         mode \u001b[38;5;241m+\u001b[39m\u001b[38;5;241m=\u001b[39m \u001b[38;5;124m\"\u001b[39m\u001b[38;5;124mb\u001b[39m\u001b[38;5;124m\"\u001b[39m\n\u001b[0;32m-> 1735\u001b[0m \u001b[38;5;28mself\u001b[39m\u001b[38;5;241m.\u001b[39mhandles \u001b[38;5;241m=\u001b[39m \u001b[43mget_handle\u001b[49m\u001b[43m(\u001b[49m\n\u001b[1;32m   1736\u001b[0m \u001b[43m    \u001b[49m\u001b[43mf\u001b[49m\u001b[43m,\u001b[49m\n\u001b[1;32m   1737\u001b[0m \u001b[43m    \u001b[49m\u001b[43mmode\u001b[49m\u001b[43m,\u001b[49m\n\u001b[1;32m   1738\u001b[0m \u001b[43m    \u001b[49m\u001b[43mencoding\u001b[49m\u001b[38;5;241;43m=\u001b[39;49m\u001b[38;5;28;43mself\u001b[39;49m\u001b[38;5;241;43m.\u001b[39;49m\u001b[43moptions\u001b[49m\u001b[38;5;241;43m.\u001b[39;49m\u001b[43mget\u001b[49m\u001b[43m(\u001b[49m\u001b[38;5;124;43m\"\u001b[39;49m\u001b[38;5;124;43mencoding\u001b[39;49m\u001b[38;5;124;43m\"\u001b[39;49m\u001b[43m,\u001b[49m\u001b[43m \u001b[49m\u001b[38;5;28;43;01mNone\u001b[39;49;00m\u001b[43m)\u001b[49m\u001b[43m,\u001b[49m\n\u001b[1;32m   1739\u001b[0m \u001b[43m    \u001b[49m\u001b[43mcompression\u001b[49m\u001b[38;5;241;43m=\u001b[39;49m\u001b[38;5;28;43mself\u001b[39;49m\u001b[38;5;241;43m.\u001b[39;49m\u001b[43moptions\u001b[49m\u001b[38;5;241;43m.\u001b[39;49m\u001b[43mget\u001b[49m\u001b[43m(\u001b[49m\u001b[38;5;124;43m\"\u001b[39;49m\u001b[38;5;124;43mcompression\u001b[39;49m\u001b[38;5;124;43m\"\u001b[39;49m\u001b[43m,\u001b[49m\u001b[43m \u001b[49m\u001b[38;5;28;43;01mNone\u001b[39;49;00m\u001b[43m)\u001b[49m\u001b[43m,\u001b[49m\n\u001b[1;32m   1740\u001b[0m \u001b[43m    \u001b[49m\u001b[43mmemory_map\u001b[49m\u001b[38;5;241;43m=\u001b[39;49m\u001b[38;5;28;43mself\u001b[39;49m\u001b[38;5;241;43m.\u001b[39;49m\u001b[43moptions\u001b[49m\u001b[38;5;241;43m.\u001b[39;49m\u001b[43mget\u001b[49m\u001b[43m(\u001b[49m\u001b[38;5;124;43m\"\u001b[39;49m\u001b[38;5;124;43mmemory_map\u001b[39;49m\u001b[38;5;124;43m\"\u001b[39;49m\u001b[43m,\u001b[49m\u001b[43m \u001b[49m\u001b[38;5;28;43;01mFalse\u001b[39;49;00m\u001b[43m)\u001b[49m\u001b[43m,\u001b[49m\n\u001b[1;32m   1741\u001b[0m \u001b[43m    \u001b[49m\u001b[43mis_text\u001b[49m\u001b[38;5;241;43m=\u001b[39;49m\u001b[43mis_text\u001b[49m\u001b[43m,\u001b[49m\n\u001b[1;32m   1742\u001b[0m \u001b[43m    \u001b[49m\u001b[43merrors\u001b[49m\u001b[38;5;241;43m=\u001b[39;49m\u001b[38;5;28;43mself\u001b[39;49m\u001b[38;5;241;43m.\u001b[39;49m\u001b[43moptions\u001b[49m\u001b[38;5;241;43m.\u001b[39;49m\u001b[43mget\u001b[49m\u001b[43m(\u001b[49m\u001b[38;5;124;43m\"\u001b[39;49m\u001b[38;5;124;43mencoding_errors\u001b[39;49m\u001b[38;5;124;43m\"\u001b[39;49m\u001b[43m,\u001b[49m\u001b[43m \u001b[49m\u001b[38;5;124;43m\"\u001b[39;49m\u001b[38;5;124;43mstrict\u001b[39;49m\u001b[38;5;124;43m\"\u001b[39;49m\u001b[43m)\u001b[49m\u001b[43m,\u001b[49m\n\u001b[1;32m   1743\u001b[0m \u001b[43m    \u001b[49m\u001b[43mstorage_options\u001b[49m\u001b[38;5;241;43m=\u001b[39;49m\u001b[38;5;28;43mself\u001b[39;49m\u001b[38;5;241;43m.\u001b[39;49m\u001b[43moptions\u001b[49m\u001b[38;5;241;43m.\u001b[39;49m\u001b[43mget\u001b[49m\u001b[43m(\u001b[49m\u001b[38;5;124;43m\"\u001b[39;49m\u001b[38;5;124;43mstorage_options\u001b[39;49m\u001b[38;5;124;43m\"\u001b[39;49m\u001b[43m,\u001b[49m\u001b[43m \u001b[49m\u001b[38;5;28;43;01mNone\u001b[39;49;00m\u001b[43m)\u001b[49m\u001b[43m,\u001b[49m\n\u001b[1;32m   1744\u001b[0m \u001b[43m\u001b[49m\u001b[43m)\u001b[49m\n\u001b[1;32m   1745\u001b[0m \u001b[38;5;28;01massert\u001b[39;00m \u001b[38;5;28mself\u001b[39m\u001b[38;5;241m.\u001b[39mhandles \u001b[38;5;129;01mis\u001b[39;00m \u001b[38;5;129;01mnot\u001b[39;00m \u001b[38;5;28;01mNone\u001b[39;00m\n\u001b[1;32m   1746\u001b[0m f \u001b[38;5;241m=\u001b[39m \u001b[38;5;28mself\u001b[39m\u001b[38;5;241m.\u001b[39mhandles\u001b[38;5;241m.\u001b[39mhandle\n",
      "File \u001b[0;32m/usr/local/lib/python3.10/dist-packages/pandas/io/common.py:856\u001b[0m, in \u001b[0;36mget_handle\u001b[0;34m(path_or_buf, mode, encoding, compression, memory_map, is_text, errors, storage_options)\u001b[0m\n\u001b[1;32m    851\u001b[0m \u001b[38;5;28;01melif\u001b[39;00m \u001b[38;5;28misinstance\u001b[39m(handle, \u001b[38;5;28mstr\u001b[39m):\n\u001b[1;32m    852\u001b[0m     \u001b[38;5;66;03m# Check whether the filename is to be opened in binary mode.\u001b[39;00m\n\u001b[1;32m    853\u001b[0m     \u001b[38;5;66;03m# Binary mode does not support 'encoding' and 'newline'.\u001b[39;00m\n\u001b[1;32m    854\u001b[0m     \u001b[38;5;28;01mif\u001b[39;00m ioargs\u001b[38;5;241m.\u001b[39mencoding \u001b[38;5;129;01mand\u001b[39;00m \u001b[38;5;124m\"\u001b[39m\u001b[38;5;124mb\u001b[39m\u001b[38;5;124m\"\u001b[39m \u001b[38;5;129;01mnot\u001b[39;00m \u001b[38;5;129;01min\u001b[39;00m ioargs\u001b[38;5;241m.\u001b[39mmode:\n\u001b[1;32m    855\u001b[0m         \u001b[38;5;66;03m# Encoding\u001b[39;00m\n\u001b[0;32m--> 856\u001b[0m         handle \u001b[38;5;241m=\u001b[39m \u001b[38;5;28;43mopen\u001b[39;49m\u001b[43m(\u001b[49m\n\u001b[1;32m    857\u001b[0m \u001b[43m            \u001b[49m\u001b[43mhandle\u001b[49m\u001b[43m,\u001b[49m\n\u001b[1;32m    858\u001b[0m \u001b[43m            \u001b[49m\u001b[43mioargs\u001b[49m\u001b[38;5;241;43m.\u001b[39;49m\u001b[43mmode\u001b[49m\u001b[43m,\u001b[49m\n\u001b[1;32m    859\u001b[0m \u001b[43m            \u001b[49m\u001b[43mencoding\u001b[49m\u001b[38;5;241;43m=\u001b[39;49m\u001b[43mioargs\u001b[49m\u001b[38;5;241;43m.\u001b[39;49m\u001b[43mencoding\u001b[49m\u001b[43m,\u001b[49m\n\u001b[1;32m    860\u001b[0m \u001b[43m            \u001b[49m\u001b[43merrors\u001b[49m\u001b[38;5;241;43m=\u001b[39;49m\u001b[43merrors\u001b[49m\u001b[43m,\u001b[49m\n\u001b[1;32m    861\u001b[0m \u001b[43m            \u001b[49m\u001b[43mnewline\u001b[49m\u001b[38;5;241;43m=\u001b[39;49m\u001b[38;5;124;43m\"\u001b[39;49m\u001b[38;5;124;43m\"\u001b[39;49m\u001b[43m,\u001b[49m\n\u001b[1;32m    862\u001b[0m \u001b[43m        \u001b[49m\u001b[43m)\u001b[49m\n\u001b[1;32m    863\u001b[0m     \u001b[38;5;28;01melse\u001b[39;00m:\n\u001b[1;32m    864\u001b[0m         \u001b[38;5;66;03m# Binary mode\u001b[39;00m\n\u001b[1;32m    865\u001b[0m         handle \u001b[38;5;241m=\u001b[39m \u001b[38;5;28mopen\u001b[39m(handle, ioargs\u001b[38;5;241m.\u001b[39mmode)\n",
      "\u001b[0;31mFileNotFoundError\u001b[0m: [Errno 2] No such file or directory: '../../data/GLES/coding_list2.csv'"
     ]
    }
   ],
   "source": [
    "DATA_DIR= os.path.join('..','..','data')\n",
    "code_df= pd.read_csv(os.path.join(DATA_DIR,r\"GLES/coding_list2.csv\"), sep=',')\n",
    "coding_list_dict = dict(zip(code_df.Code, code_df.Category))\n",
    "coding_list_dict[53] = 'Wohnungspolitik'\n",
    "df_open = pd.read_csv(os.path.join(DATA_DIR,\"GLES\",r'ZA6838_W21_sA_open-ended_v6-0-0.csv'), sep=';',encoding='iso-8859-1')\n",
    "df_open= df_open[['lfdn','kp21_840s']]\n",
    "\n",
    "df_open_coding= pd.read_csv(os.path.join(DATA_DIR, r\"ZA7957_6838_v2.0.0.csv\"), sep=';',encoding='iso-8859-1')\n",
    "df_merged= pd.merge(df_open[['lfdn','kp21_840s']], df_open_coding.filter(regex='lfdn|kp21_840'),left_on='lfdn',right_on='lfdn_od',how='left')\n",
    "df_merged['kp21_840_c1_str']= df_merged.kp21_840_c1.map(coding_list_dict)\n",
    "df_merged= df_merged[['lfdn_od','kp21_840s_x','kp21_840_c1_str']].rename({'kp21_840s_x':'kp21_840s'},axis=1).rename({\"kp21_840s\":\"text\",\"kp21_840_c1_str\":\"label\"},axis=1)[['text','label']]\n",
    "\n",
    "df_merged =df_merged.dropna()\n",
    "label_mapping = {label: idx for idx, label in enumerate(df_merged['label'].unique())}\n",
    "\n",
    "df_merged['label'] = df_merged['label'].map(label_mapping)\n",
    "id2label = dict((label_mapping[k], k) for k in label_mapping)\n",
    "label2id =label_mapping \n",
    "   \n"
   ]
  },
  {
   "cell_type": "code",
   "execution_count": null,
   "id": "958ea59e",
   "metadata": {},
   "outputs": [],
   "source": [
    "from transformers import AutoModelForSequenceClassification, AutoTokenizer\n",
    "\n",
    "model_path = '/dss/dsshome1/0F/ra46lup2/ma-yoztyurk/code/fine_tuned_german_bert'\n",
    "\n",
    "tokenizer = AutoTokenizer.from_pretrained('bert-base-german-cased',cache_dir=os.environ['HUGGINGFACE_HUB_CACHE']  ,  padding=True, truncation=True,  max_length=256)\n",
    "\n",
    "model = AutoModelForSequenceClassification.from_pretrained(model_path, num_labels=len(label2id), id2label=id2label, label2id=label2id)\n",
    "model.eval()"
   ]
  },
  {
   "cell_type": "code",
   "execution_count": null,
   "id": "5993b7ed",
   "metadata": {},
   "outputs": [],
   "source": [
    "device = torch.device(\"cuda\" if torch.cuda.is_available() else \"cpu\")\n",
    "\n",
    "def process_llm_output(file_path, tokenizer, model, device,predict=False):\n",
    "    with open(file_path, 'r', encoding='utf-8') as f:\n",
    "        data = json.load(f)\n",
    "        text = data['output']  # Assuming we want to classify the 'prompt' field\n",
    "    if not predict: \n",
    "        return {**data}\n",
    "    # Tokenize and prepare inputs\n",
    "    inputs = tokenizer(text, return_tensors=\"pt\", truncation=True, padding=True, max_length=512)\n",
    "    inputs = {k: v.to(device) for k, v in inputs.items()}\n",
    "\n",
    "    # Inference\n",
    "    with torch.no_grad():\n",
    "        outputs = model(**inputs)\n",
    "        logits = outputs.logits\n",
    "        probabilities = torch.nn.functional.softmax(logits, dim=-1).cpu().numpy()\n",
    "        predicted_class = probabilities.argmax(axis=1)[0]  # Get the index of the max log-probability\n",
    "\n",
    "    # Return the original data with added prediction info\n",
    "    return {**data, 'predicted_class':  id2label[int(predicted_class)], 'probabilities': probabilities.tolist(),'prob':max(probabilities[0])}\n",
    "\n",
    "def process_result_dir(directory, tokenizer, model, device,predict):\n",
    "    results = []\n",
    "    for filename in os.listdir(directory):\n",
    "        if filename.endswith('.json'):\n",
    "            file_path = os.path.join(directory, filename)\n",
    "            result = process_llm_output(file_path, tokenizer, model, device,predict)\n",
    "            results.append(result)\n",
    "    return pd.DataFrame(results)\n",
    "\n",
    "# Directory containing the results\n",
    "results_dir = '/dss/dsshome1/0F/ra46lup2/ma-yoztyurk/code/results/8/'\n",
    "\n",
    "# Process the directory and get results as a DataFrame\n",
    "results_df = process_result_dir(results_dir, tokenizer, model, device,True)\n",
    "\n",
    "# Optional: Save the DataFrame to a CSV file\n",
    "#results_df.to_csv('classification_results.csv', index=False)\n"
   ]
  },
  {
   "cell_type": "code",
   "execution_count": null,
   "id": "a3fbb73f",
   "metadata": {},
   "outputs": [],
   "source": [
    "# Directory containing the results\n",
    "results_dir_10 = '/dss/dsshome1/0F/ra46lup2/ma-yoztyurk/code/results/10/'\n",
    "\n",
    "# Process the directory and get results as a DataFrame\n",
    "results_df_10 = process_result_dir(results_dir_10, tokenizer, model, device,True)\n"
   ]
  },
  {
   "cell_type": "code",
   "execution_count": 48,
   "id": "31008701",
   "metadata": {},
   "outputs": [
    {
     "data": {
      "text/html": [
       "<div>\n",
       "<style scoped>\n",
       "    .dataframe tbody tr th:only-of-type {\n",
       "        vertical-align: middle;\n",
       "    }\n",
       "\n",
       "    .dataframe tbody tr th {\n",
       "        vertical-align: top;\n",
       "    }\n",
       "\n",
       "    .dataframe thead th {\n",
       "        text-align: right;\n",
       "    }\n",
       "</style>\n",
       "<table border=\"1\" class=\"dataframe\">\n",
       "  <thead>\n",
       "    <tr style=\"text-align: right;\">\n",
       "      <th></th>\n",
       "      <th>lfdn_od</th>\n",
       "      <th>kp21_840s</th>\n",
       "      <th>kp21_840_c1_str</th>\n",
       "    </tr>\n",
       "  </thead>\n",
       "  <tbody>\n",
       "    <tr>\n",
       "      <th>0</th>\n",
       "      <td>18540</td>\n",
       "      <td>Coronarpandemie</td>\n",
       "      <td>Corona-Pandemie</td>\n",
       "    </tr>\n",
       "    <tr>\n",
       "      <th>1</th>\n",
       "      <td>12587</td>\n",
       "      <td>Gesellschaftliche Spaltung</td>\n",
       "      <td>Werte, politische Kultur und Gesellschaftskritik</td>\n",
       "    </tr>\n",
       "    <tr>\n",
       "      <th>2</th>\n",
       "      <td>26011</td>\n",
       "      <td>Sichere Arbeitsplätze</td>\n",
       "      <td>Arbeitsmarktpolitik</td>\n",
       "    </tr>\n",
       "    <tr>\n",
       "      <th>3</th>\n",
       "      <td>26012</td>\n",
       "      <td>Keine gescheiten Leute an der Macht!</td>\n",
       "      <td>Politische Strukturen und Prozesse</td>\n",
       "    </tr>\n",
       "    <tr>\n",
       "      <th>4</th>\n",
       "      <td>26014</td>\n",
       "      <td>Corona</td>\n",
       "      <td>Corona-Pandemie</td>\n",
       "    </tr>\n",
       "    <tr>\n",
       "      <th>...</th>\n",
       "      <td>...</td>\n",
       "      <td>...</td>\n",
       "      <td>...</td>\n",
       "    </tr>\n",
       "    <tr>\n",
       "      <th>13254</th>\n",
       "      <td>41313</td>\n",
       "      <td>Geld</td>\n",
       "      <td>Sonstiges</td>\n",
       "    </tr>\n",
       "    <tr>\n",
       "      <th>13255</th>\n",
       "      <td>2936</td>\n",
       "      <td>Corona Krise</td>\n",
       "      <td>Corona-Pandemie</td>\n",
       "    </tr>\n",
       "    <tr>\n",
       "      <th>13256</th>\n",
       "      <td>6039</td>\n",
       "      <td>Corona</td>\n",
       "      <td>Corona-Pandemie</td>\n",
       "    </tr>\n",
       "    <tr>\n",
       "      <th>13257</th>\n",
       "      <td>15166</td>\n",
       "      <td>Coronapandemie</td>\n",
       "      <td>Corona-Pandemie</td>\n",
       "    </tr>\n",
       "    <tr>\n",
       "      <th>13258</th>\n",
       "      <td>22499</td>\n",
       "      <td>Impfplicht</td>\n",
       "      <td>Corona-Pandemie</td>\n",
       "    </tr>\n",
       "  </tbody>\n",
       "</table>\n",
       "<p>13259 rows × 3 columns</p>\n",
       "</div>"
      ],
      "text/plain": [
       "       lfdn_od                             kp21_840s  \\\n",
       "0        18540                       Coronarpandemie   \n",
       "1        12587          Gesellschaftliche Spaltung     \n",
       "2        26011                 Sichere Arbeitsplätze   \n",
       "3        26012  Keine gescheiten Leute an der Macht!   \n",
       "4        26014                                Corona   \n",
       "...        ...                                   ...   \n",
       "13254    41313                                  Geld   \n",
       "13255     2936                          Corona Krise   \n",
       "13256     6039                                Corona   \n",
       "13257    15166                        Coronapandemie   \n",
       "13258    22499                           Impfplicht    \n",
       "\n",
       "                                        kp21_840_c1_str  \n",
       "0                                       Corona-Pandemie  \n",
       "1      Werte, politische Kultur und Gesellschaftskritik  \n",
       "2                                   Arbeitsmarktpolitik  \n",
       "3                    Politische Strukturen und Prozesse  \n",
       "4                                       Corona-Pandemie  \n",
       "...                                                 ...  \n",
       "13254                                         Sonstiges  \n",
       "13255                                   Corona-Pandemie  \n",
       "13256                                   Corona-Pandemie  \n",
       "13257                                   Corona-Pandemie  \n",
       "13258                                   Corona-Pandemie  \n",
       "\n",
       "[13259 rows x 3 columns]"
      ]
     },
     "execution_count": 48,
     "metadata": {},
     "output_type": "execute_result"
    }
   ],
   "source": [
    "wave_open_ended_df = pd.read_csv(os.path.join(DATA_DIR,\"GLES\",r'ZA6838_W21_sA_open-ended_v6-0-0.csv'), sep=';',encoding='iso-8859-1')\n",
    "wave_open_ended_df= wave_open_ended_df[['lfdn','kp21_840s']]\n",
    "wave_open_ended_df['first_most_imp']= wave_open_ended_df.kp21_840s\n",
    "\n",
    "df_coding_840s= pd.read_csv(os.path.join(DATA_DIR, r\"ZA7957_6838_v2.0.0.csv\"), sep=';',encoding='iso-8859-1')\n",
    "wave_open_ended_df= pd.merge(wave_open_ended_df[['lfdn','kp21_840s']], df_coding_840s.filter(regex='lfdn|kp21_840'),left_on='lfdn',right_on='lfdn_od',how='left')\n",
    "wave_open_ended_df['kp21_840_c1_str']= wave_open_ended_df.kp21_840_c1.map(coding_list_dict)\n",
    "wave_open_ended_df= wave_open_ended_df[['lfdn_od','kp21_840s_x','kp21_840_c1_str']].rename({'kp21_840s_x':'kp21_840s'},axis=1)"
   ]
  },
  {
   "cell_type": "code",
   "execution_count": 62,
   "id": "a408da4c",
   "metadata": {},
   "outputs": [],
   "source": [
    "a=pd.merge(wave_open_ended_df,results_df,left_on='lfdn_od',right_on='user_id',suffixes=('','_8'))\n",
    "b=pd.merge(a,results_df_10,left_on='lfdn_od',right_on='user_id',suffixes=('','_10'))"
   ]
  },
  {
   "cell_type": "code",
   "execution_count": 123,
   "id": "fec650f6",
   "metadata": {},
   "outputs": [],
   "source": [
    "c= b.filter(regex='user_id|kp21_840|prompt$|predicted_class|prob$|output$|output_10|prob_10',axis=1)\n",
    "c=c.query(\"kp21_840_c1_str==kp21_840_c1_str\").rename({'lfdn_od': 'lfdn_od',\n",
    " 'kp21_840s': 'survey_answer',\n",
    " 'kp21_840_c1_str': 'survey_answer_coded',\n",
    " 'user_id': 'user_id',\n",
    " 'prompt': 'prompt',\n",
    " 'output': 'output_ex1',\n",
    " 'predicted_class': 'ex1_coded',\n",
    " 'prob': 'prob_ex1',\n",
    " 'prob_10': 'prob_ex2',\n",
    " 'user_id_10': 'user_id_ex2',\n",
    " 'output_10': 'output_ex2',\n",
    " 'predicted_class_10': 'ex2_coded'},axis=1)"
   ]
  },
  {
   "cell_type": "code",
   "execution_count": 135,
   "id": "6f8e9f8a",
   "metadata": {},
   "outputs": [
    {
     "name": "stderr",
     "output_type": "stream",
     "text": [
      "huggingface/tokenizers: The current process just got forked, after parallelism has already been used. Disabling parallelism to avoid deadlocks...\n",
      "To disable this warning, you can either:\n",
      "\t- Avoid using `tokenizers` before the fork if possible\n",
      "\t- Explicitly set the environment variable TOKENIZERS_PARALLELISM=(true | false)\n"
     ]
    },
    {
     "name": "stdout",
     "output_type": "stream",
     "text": [
      "Looking in indexes: https://pypi.org/simple, https://pypi.ngc.nvidia.com\n",
      "Collecting langdetect\n",
      "  Downloading langdetect-1.0.9.tar.gz (981 kB)\n",
      "\u001b[2K     \u001b[90m━━━━━━━━━━━━━━━━━━━━━━━━━━━━━━━━━━━━━━\u001b[0m \u001b[32m981.5/981.5 kB\u001b[0m \u001b[31m19.9 MB/s\u001b[0m eta \u001b[36m0:00:00\u001b[0ma \u001b[36m0:00:01\u001b[0m\n",
      "\u001b[?25h  Preparing metadata (setup.py) ... \u001b[?25ldone\n",
      "\u001b[?25hRequirement already satisfied: six in /usr/local/lib/python3.10/dist-packages (from langdetect) (1.16.0)\n",
      "Building wheels for collected packages: langdetect\n",
      "  Building wheel for langdetect (setup.py) ... \u001b[?25ldone\n",
      "\u001b[?25h  Created wheel for langdetect: filename=langdetect-1.0.9-py3-none-any.whl size=993243 sha256=2fb679ea426f2cc883f33f6da1986816d4f5f06f1ba07682b46f891f20b8f699\n",
      "  Stored in directory: /tmp/pip-ephem-wheel-cache-_kofnnhw/wheels/95/03/7d/59ea870c70ce4e5a370638b5462a7711ab78fba2f655d05106\n",
      "Successfully built langdetect\n",
      "Installing collected packages: langdetect\n",
      "Successfully installed langdetect-1.0.9\n",
      "\n",
      "\u001b[1m[\u001b[0m\u001b[34;49mnotice\u001b[0m\u001b[1;39;49m]\u001b[0m\u001b[39;49m A new release of pip is available: \u001b[0m\u001b[31;49m23.3.1\u001b[0m\u001b[39;49m -> \u001b[0m\u001b[32;49m24.0\u001b[0m\n",
      "\u001b[1m[\u001b[0m\u001b[34;49mnotice\u001b[0m\u001b[1;39;49m]\u001b[0m\u001b[39;49m To update, run: \u001b[0m\u001b[32;49mpython -m pip install --upgrade pip\u001b[0m\n"
     ]
    }
   ],
   "source": [
    "!pip install langdetect\n"
   ]
  },
  {
   "cell_type": "code",
   "execution_count": 189,
   "id": "967de4e0",
   "metadata": {},
   "outputs": [],
   "source": [
    "from langdetect import detect, LangDetectException\n",
    "\n",
    "def get_lang(text):\n",
    "    try:\n",
    "        language = detect(text)\n",
    "        return language\n",
    "        #return language\n",
    "    except Exception as e:\n",
    "        return ''\n"
   ]
  },
  {
   "cell_type": "code",
   "execution_count": 190,
   "id": "ad53ca9b",
   "metadata": {},
   "outputs": [],
   "source": [
    "c['output_ex2_lang']= c.output_ex2.apply(lambda x: get_lang(x))\n",
    "c['output_ex1_lang']= c.output_ex1.apply(lambda x: get_lang(x))\n"
   ]
  },
  {
   "cell_type": "code",
   "execution_count": 200,
   "id": "32d68db1",
   "metadata": {},
   "outputs": [
    {
     "data": {
      "text/plain": [
       "de    0.976215\n",
       "en    0.023785\n",
       "Name: output_ex1_lang, dtype: float64"
      ]
     },
     "execution_count": 200,
     "metadata": {},
     "output_type": "execute_result"
    }
   ],
   "source": [
    "c['output_ex1_lang'].value_counts(1)"
   ]
  },
  {
   "cell_type": "code",
   "execution_count": 199,
   "id": "dc9ec527",
   "metadata": {},
   "outputs": [
    {
     "data": {
      "text/plain": [
       "de    0.838676\n",
       "en    0.161324\n",
       "Name: output_ex2_lang, dtype: float64"
      ]
     },
     "execution_count": 199,
     "metadata": {},
     "output_type": "execute_result"
    }
   ],
   "source": [
    "c['output_ex2_lang'].value_counts(1)"
   ]
  },
  {
   "cell_type": "code",
   "execution_count": 186,
   "id": "20b83b55",
   "metadata": {},
   "outputs": [
    {
     "name": "stderr",
     "output_type": "stream",
     "text": [
      "Failed to detect the name of this notebook, you can set it manually with the WANDB_NOTEBOOK_NAME environment variable to enable code saving.\n",
      "\u001b[34m\u001b[1mwandb\u001b[0m: Currently logged in as: \u001b[33mberkozturk\u001b[0m (\u001b[33mma-yoztyurk\u001b[0m). Use \u001b[1m`wandb login --relogin`\u001b[0m to force relogin\n"
     ]
    },
    {
     "data": {
      "text/plain": [
       "True"
      ]
     },
     "execution_count": 186,
     "metadata": {},
     "output_type": "execute_result"
    }
   ],
   "source": [
    "import wandb\n",
    "\n",
    "# Log in to your W&B account\n",
    "wandb.login()"
   ]
  },
  {
   "cell_type": "code",
   "execution_count": 188,
   "id": "44c581d8",
   "metadata": {},
   "outputs": [
    {
     "data": {
      "text/html": [
       "Finishing last run (ID:05q34h7f) before initializing another..."
      ],
      "text/plain": [
       "<IPython.core.display.HTML object>"
      ]
     },
     "metadata": {},
     "output_type": "display_data"
    },
    {
     "name": "stderr",
     "output_type": "stream",
     "text": [
      "wandb: WARNING Source type is set to 'repo' but some required information is missing from the environment. A job will not be created from this run. See https://docs.wandb.ai/guides/launch/create-job\n"
     ]
    },
    {
     "data": {
      "application/vnd.jupyter.widget-view+json": {
       "model_id": "eac59103feaf4e2194e7302d9c0cd95f",
       "version_major": 2,
       "version_minor": 0
      },
      "text/plain": [
       "VBox(children=(Label(value='0.016 MB of 0.016 MB uploaded\\r'), FloatProgress(value=1.0, max=1.0)))"
      ]
     },
     "metadata": {},
     "output_type": "display_data"
    },
    {
     "data": {
      "text/html": [
       " View run <strong style=\"color:#cdcd00\">festive-rocket-2</strong> at: <a href='https://wandb.ai/ma-yoztyurk/ma/runs/05q34h7f' target=\"_blank\">https://wandb.ai/ma-yoztyurk/ma/runs/05q34h7f</a><br/>Synced 4 W&B file(s), 0 media file(s), 0 artifact file(s) and 0 other file(s)"
      ],
      "text/plain": [
       "<IPython.core.display.HTML object>"
      ]
     },
     "metadata": {},
     "output_type": "display_data"
    },
    {
     "data": {
      "text/html": [
       "Find logs at: <code>./wandb/run-20240221_003108-05q34h7f/logs</code>"
      ],
      "text/plain": [
       "<IPython.core.display.HTML object>"
      ]
     },
     "metadata": {},
     "output_type": "display_data"
    },
    {
     "data": {
      "text/html": [
       "Successfully finished last run (ID:05q34h7f). Initializing new run:<br/>"
      ],
      "text/plain": [
       "<IPython.core.display.HTML object>"
      ]
     },
     "metadata": {},
     "output_type": "display_data"
    },
    {
     "data": {
      "application/vnd.jupyter.widget-view+json": {
       "model_id": "75d1ca9121844fbd9a89e8a98954516d",
       "version_major": 2,
       "version_minor": 0
      },
      "text/plain": [
       "VBox(children=(Label(value='Waiting for wandb.init()...\\r'), FloatProgress(value=0.011112319057186444, max=1.0…"
      ]
     },
     "metadata": {},
     "output_type": "display_data"
    },
    {
     "data": {
      "text/html": [
       "Tracking run with wandb version 0.16.3"
      ],
      "text/plain": [
       "<IPython.core.display.HTML object>"
      ]
     },
     "metadata": {},
     "output_type": "display_data"
    },
    {
     "data": {
      "text/html": [
       "Run data is saved locally in <code>/dss/dsshome1/0F/ra46lup2/ma-yoztyurk/code/notebooks/wandb/run-20240221_003131-mgeaniev</code>"
      ],
      "text/plain": [
       "<IPython.core.display.HTML object>"
      ]
     },
     "metadata": {},
     "output_type": "display_data"
    },
    {
     "data": {
      "text/html": [
       "Syncing run <strong><a href='https://wandb.ai/ma-yoztyurk/ma/runs/mgeaniev' target=\"_blank\">radiant-chrysanthemum-3</a></strong> to <a href='https://wandb.ai/ma-yoztyurk/ma' target=\"_blank\">Weights & Biases</a> (<a href='https://wandb.me/run' target=\"_blank\">docs</a>)<br/>"
      ],
      "text/plain": [
       "<IPython.core.display.HTML object>"
      ]
     },
     "metadata": {},
     "output_type": "display_data"
    },
    {
     "data": {
      "text/html": [
       " View project at <a href='https://wandb.ai/ma-yoztyurk/ma' target=\"_blank\">https://wandb.ai/ma-yoztyurk/ma</a>"
      ],
      "text/plain": [
       "<IPython.core.display.HTML object>"
      ]
     },
     "metadata": {},
     "output_type": "display_data"
    },
    {
     "data": {
      "text/html": [
       " View run at <a href='https://wandb.ai/ma-yoztyurk/ma/runs/mgeaniev' target=\"_blank\">https://wandb.ai/ma-yoztyurk/ma/runs/mgeaniev</a>"
      ],
      "text/plain": [
       "<IPython.core.display.HTML object>"
      ]
     },
     "metadata": {},
     "output_type": "display_data"
    }
   ],
   "source": [
    "wandb.init(project='ma', entity='ma-yoztyurk')\n",
    "# Assuming df is your pandas DataFrame\n",
    "wandb_table = wandb.Table(dataframe=c)\n",
    "wandb.log({'Your_DataFrame_Name': wandb_table})"
   ]
  },
  {
   "cell_type": "code",
   "execution_count": 193,
   "id": "8b8df90f",
   "metadata": {},
   "outputs": [],
   "source": [
    "c.to_csv(\"ex1_ex2.csv\")"
   ]
  },
  {
   "cell_type": "code",
   "execution_count": 133,
   "id": "2f2f88a3",
   "metadata": {},
   "outputs": [
    {
     "ename": "TypeError",
     "evalue": "register() missing 1 required positional argument: 'widget'",
     "output_type": "error",
     "traceback": [
      "\u001b[0;31m---------------------------------------------------------------------------\u001b[0m",
      "\u001b[0;31mTypeError\u001b[0m                                 Traceback (most recent call last)",
      "Cell \u001b[0;32mIn[133], line 1\u001b[0m\n\u001b[0;32m----> 1\u001b[0m \u001b[38;5;28;01mimport\u001b[39;00m \u001b[38;5;21;01mqgrid\u001b[39;00m\n\u001b[1;32m      2\u001b[0m \u001b[38;5;66;03m# Assuming df is your pandas DataFrame\u001b[39;00m\n\u001b[1;32m      3\u001b[0m qgrid_widget \u001b[38;5;241m=\u001b[39m qgrid\u001b[38;5;241m.\u001b[39mshow_grid(df, show_toolbar\u001b[38;5;241m=\u001b[39m\u001b[38;5;28;01mTrue\u001b[39;00m)\n",
      "File \u001b[0;32m/usr/local/lib/python3.10/dist-packages/qgrid/__init__.py:3\u001b[0m\n\u001b[1;32m      1\u001b[0m \u001b[38;5;28;01mfrom\u001b[39;00m \u001b[38;5;21;01m.\u001b[39;00m\u001b[38;5;21;01m_version\u001b[39;00m \u001b[38;5;28;01mimport\u001b[39;00m version_info, __version__  \u001b[38;5;66;03m# noqa F401\u001b[39;00m\n\u001b[0;32m----> 3\u001b[0m \u001b[38;5;28;01mfrom\u001b[39;00m \u001b[38;5;21;01m.\u001b[39;00m\u001b[38;5;21;01mgrid\u001b[39;00m \u001b[38;5;28;01mimport\u001b[39;00m (\n\u001b[1;32m      4\u001b[0m     enable,\n\u001b[1;32m      5\u001b[0m     disable,\n\u001b[1;32m      6\u001b[0m     set_defaults,\n\u001b[1;32m      7\u001b[0m     on,\n\u001b[1;32m      8\u001b[0m     off,\n\u001b[1;32m      9\u001b[0m     set_grid_option,\n\u001b[1;32m     10\u001b[0m     show_grid,\n\u001b[1;32m     11\u001b[0m     QgridWidget,\n\u001b[1;32m     12\u001b[0m     QGridWidget,\n\u001b[1;32m     13\u001b[0m )\n\u001b[1;32m     16\u001b[0m \u001b[38;5;28;01mdef\u001b[39;00m \u001b[38;5;21m_jupyter_nbextension_paths\u001b[39m():\n\u001b[1;32m     17\u001b[0m     \u001b[38;5;28;01mreturn\u001b[39;00m [\n\u001b[1;32m     18\u001b[0m         {\n\u001b[1;32m     19\u001b[0m             \u001b[38;5;124m\"\u001b[39m\u001b[38;5;124msection\u001b[39m\u001b[38;5;124m\"\u001b[39m: \u001b[38;5;124m\"\u001b[39m\u001b[38;5;124mnotebook\u001b[39m\u001b[38;5;124m\"\u001b[39m,\n\u001b[0;32m   (...)\u001b[0m\n\u001b[1;32m     23\u001b[0m         }\n\u001b[1;32m     24\u001b[0m     ]\n",
      "File \u001b[0;32m/usr/local/lib/python3.10/dist-packages/qgrid/grid.py:524\u001b[0m\n\u001b[1;32m    520\u001b[0m     \u001b[38;5;28;01melse\u001b[39;00m:\n\u001b[1;32m    521\u001b[0m         \u001b[38;5;28;01mreturn\u001b[39;00m \u001b[38;5;28mstr\u001b[39m(x)\n\u001b[0;32m--> 524\u001b[0m \u001b[38;5;129m@widgets\u001b[39m\u001b[38;5;241;43m.\u001b[39;49m\u001b[43mregister\u001b[49m\u001b[43m(\u001b[49m\u001b[43m)\u001b[49m\n\u001b[1;32m    525\u001b[0m \u001b[38;5;28;01mclass\u001b[39;00m \u001b[38;5;21;01mQgridWidget\u001b[39;00m(widgets\u001b[38;5;241m.\u001b[39mDOMWidget):\n\u001b[1;32m    526\u001b[0m \u001b[38;5;250m    \u001b[39m\u001b[38;5;124;03m\"\"\"\u001b[39;00m\n\u001b[1;32m    527\u001b[0m \u001b[38;5;124;03m    The widget class which is instantiated by the ``show_grid`` method. This\u001b[39;00m\n\u001b[1;32m    528\u001b[0m \u001b[38;5;124;03m    class can be constructed directly but that's not recommended because\u001b[39;00m\n\u001b[0;32m   (...)\u001b[0m\n\u001b[1;32m    562\u001b[0m \n\u001b[1;32m    563\u001b[0m \u001b[38;5;124;03m    \"\"\"\u001b[39;00m\n\u001b[1;32m    565\u001b[0m     _view_name \u001b[38;5;241m=\u001b[39m Unicode(\u001b[38;5;124m'\u001b[39m\u001b[38;5;124mQgridView\u001b[39m\u001b[38;5;124m'\u001b[39m)\u001b[38;5;241m.\u001b[39mtag(sync\u001b[38;5;241m=\u001b[39m\u001b[38;5;28;01mTrue\u001b[39;00m)\n",
      "\u001b[0;31mTypeError\u001b[0m: register() missing 1 required positional argument: 'widget'"
     ]
    }
   ],
   "source": [
    "import qgrid\n",
    "# Assuming df is your pandas DataFrame\n",
    "qgrid_widget = qgrid.show_grid(df, show_toolbar=True)\n",
    "qgrid_widget\n"
   ]
  },
  {
   "cell_type": "code",
   "execution_count": 127,
   "id": "effa16a9",
   "metadata": {},
   "outputs": [
    {
     "data": {
      "text/plain": [
       "<Axes: >"
      ]
     },
     "execution_count": 127,
     "metadata": {},
     "output_type": "execute_result"
    },
    {
     "data": {
      "image/png": "[encoded data removed]",
      "text/plain": [
       "<Figure size 640x480 with 1 Axes>"
      ]
     },
     "metadata": {},
     "output_type": "display_data"
    }
   ],
   "source": [
    "c.prob_ex2.hist()"
   ]
  },
  {
   "cell_type": "code",
   "execution_count": null,
   "id": "592443a2",
   "metadata": {},
   "outputs": [],
   "source": []
  },
  {
   "cell_type": "code",
   "execution_count": null,
   "id": "ec18b3ab",
   "metadata": {},
   "outputs": [],
   "source": [
    "results_df_10.predicted_class.value_counts(1)"
   ]
  },
  {
   "cell_type": "code",
   "execution_count": null,
   "id": "ec1cd236",
   "metadata": {},
   "outputs": [],
   "source": [
    "gles_wave21_df  = pd.read_stata(os.path.join(DATA_DIR,\"GLES\",r\"ZA6838_w21_sA_v6-0-0.dta\"), convert_categoricals=False)\n",
    "leaning_party_dict = {\n",
    "    1: \"CDU/CSU\",\n",
    "    2: \"CDU\",\n",
    "    3: \"CSU\",\n",
    "    4: \"SPD\",\n",
    "    5: \"FDP\",\n",
    "    6: \"GRÜNE\",\n",
    "    7: \"DIE LINKE\",\n",
    "    322: \"AfD\",\n",
    "    801: \"other party\",\n",
    "    808: \"no party\",\n",
    "    -93: \"not asked, terminated\",\n",
    "    -95: \"not participated\",\n",
    "    -99: \"no answer\"\n",
    "}\n",
    "gles_wave21_df['leaning_party'] = gles_wave21_df['kp21_2090a'].apply(lambda x: leaning_party_dict[x] if x in leaning_party_dict else x)\n",
    "gles_wave21_df.leaning_party= gles_wave21_df.leaning_party.replace({\"other party\": \"a political party classified under 'other party' \"})\n",
    "\n",
    "gender_dict = {\n",
    "    1: \"male\",\n",
    "    2: \"female\",\n",
    "    -95: \"not participated\"\n",
    "}\n",
    "gles_wave21_df['gender']= gles_wave21_df['kpx_2280'].apply(lambda x: gender_dict[x] if x in gender_dict else x)\n",
    "gles_wave21_df['age']   = 2021 - gles_wave21_df['kpx_2290s'].str.extract('(\\d+)').astype(float)\n",
    "gles_wave21_df.ostwest = gles_wave21_df.ostwest.replace({1:'West',0:'East'})\n",
    "\n",
    "bins = [0, 24, 34, 44, 54, 64, float('inf')]\n",
    "labels = ['18-24', '25-34', '35-44', '45-54', '55-64', '65+']\n",
    "gles_wave21_df['age_group'] = pd.cut(gles_wave21_df['age'], bins=bins, labels=labels)\n",
    "gles_with_open_ended =pd.merge(gles_wave21_df,wave_open_ended_df,right_on='lfdn_od',left_on='lfdn')"
   ]
  },
  {
   "cell_type": "code",
   "execution_count": 47,
   "id": "7989f3a3",
   "metadata": {},
   "outputs": [
    {
     "data": {
      "text/html": [
       "<div>\n",
       "<style scoped>\n",
       "    .dataframe tbody tr th:only-of-type {\n",
       "        vertical-align: middle;\n",
       "    }\n",
       "\n",
       "    .dataframe tbody tr th {\n",
       "        vertical-align: top;\n",
       "    }\n",
       "\n",
       "    .dataframe thead th {\n",
       "        text-align: right;\n",
       "    }\n",
       "</style>\n",
       "<table border=\"1\" class=\"dataframe\">\n",
       "  <thead>\n",
       "    <tr style=\"text-align: right;\">\n",
       "      <th></th>\n",
       "      <th>predicted_class</th>\n",
       "      <th>kp21_840_c1_str</th>\n",
       "    </tr>\n",
       "  </thead>\n",
       "  <tbody>\n",
       "    <tr>\n",
       "      <th>Corona-Pandemie</th>\n",
       "      <td>0.202</td>\n",
       "      <td>0.566701</td>\n",
       "    </tr>\n",
       "    <tr>\n",
       "      <th>Klimapolitik</th>\n",
       "      <td>0.068</td>\n",
       "      <td>0.072389</td>\n",
       "    </tr>\n",
       "    <tr>\n",
       "      <th>Migration und Integration</th>\n",
       "      <td>0.067</td>\n",
       "      <td>0.071355</td>\n",
       "    </tr>\n",
       "    <tr>\n",
       "      <th>Soziale Gerechtigkeit</th>\n",
       "      <td>0.081</td>\n",
       "      <td>0.042399</td>\n",
       "    </tr>\n",
       "    <tr>\n",
       "      <th>keine Angabe</th>\n",
       "      <td>0.009</td>\n",
       "      <td>0.027921</td>\n",
       "    </tr>\n",
       "    <tr>\n",
       "      <th>Gesundheitspolitik</th>\n",
       "      <td>0.019</td>\n",
       "      <td>0.020683</td>\n",
       "    </tr>\n",
       "    <tr>\n",
       "      <th>Werte, politische Kultur und Gesellschaftskritik</th>\n",
       "      <td>0.056</td>\n",
       "      <td>0.020683</td>\n",
       "    </tr>\n",
       "    <tr>\n",
       "      <th>Sonstiges</th>\n",
       "      <td>0.002</td>\n",
       "      <td>0.019648</td>\n",
       "    </tr>\n",
       "    <tr>\n",
       "      <th>Armut</th>\n",
       "      <td>0.112</td>\n",
       "      <td>0.019648</td>\n",
       "    </tr>\n",
       "    <tr>\n",
       "      <th>Wirtschaftspolitik</th>\n",
       "      <td>0.052</td>\n",
       "      <td>0.018614</td>\n",
       "    </tr>\n",
       "    <tr>\n",
       "      <th>Umweltpolitik</th>\n",
       "      <td>0.002</td>\n",
       "      <td>0.012410</td>\n",
       "    </tr>\n",
       "    <tr>\n",
       "      <th>Radikalisierung und Extremismus</th>\n",
       "      <td>0.001</td>\n",
       "      <td>0.010341</td>\n",
       "    </tr>\n",
       "    <tr>\n",
       "      <th>Politische Strukturen und Prozesse</th>\n",
       "      <td>0.042</td>\n",
       "      <td>0.009307</td>\n",
       "    </tr>\n",
       "    <tr>\n",
       "      <th>Bildungspolitik</th>\n",
       "      <td>0.008</td>\n",
       "      <td>0.009307</td>\n",
       "    </tr>\n",
       "    <tr>\n",
       "      <th>Preisniveau</th>\n",
       "      <td>0.002</td>\n",
       "      <td>0.009307</td>\n",
       "    </tr>\n",
       "    <tr>\n",
       "      <th>Innere Sicherheit</th>\n",
       "      <td>0.001</td>\n",
       "      <td>0.007239</td>\n",
       "    </tr>\n",
       "    <tr>\n",
       "      <th>Kriminalität und Gewalt</th>\n",
       "      <td>0.002</td>\n",
       "      <td>0.006205</td>\n",
       "    </tr>\n",
       "    <tr>\n",
       "      <th>Politiker:innenkritik allgemein</th>\n",
       "      <td>0.003</td>\n",
       "      <td>0.006205</td>\n",
       "    </tr>\n",
       "    <tr>\n",
       "      <th>Rente und Demographischer Wandel</th>\n",
       "      <td>0.061</td>\n",
       "      <td>0.006205</td>\n",
       "    </tr>\n",
       "    <tr>\n",
       "      <th>Korruption</th>\n",
       "      <td>0.001</td>\n",
       "      <td>0.006205</td>\n",
       "    </tr>\n",
       "    <tr>\n",
       "      <th>weiß nicht</th>\n",
       "      <td>NaN</td>\n",
       "      <td>0.005171</td>\n",
       "    </tr>\n",
       "    <tr>\n",
       "      <th>Wohnungspolitik</th>\n",
       "      <td>0.020</td>\n",
       "      <td>0.003102</td>\n",
       "    </tr>\n",
       "    <tr>\n",
       "      <th>Recht und Justiz</th>\n",
       "      <td>0.001</td>\n",
       "      <td>0.003102</td>\n",
       "    </tr>\n",
       "    <tr>\n",
       "      <th>Demokratie</th>\n",
       "      <td>0.002</td>\n",
       "      <td>0.003102</td>\n",
       "    </tr>\n",
       "    <tr>\n",
       "      <th>Außenpolitik</th>\n",
       "      <td>0.004</td>\n",
       "      <td>0.003102</td>\n",
       "    </tr>\n",
       "    <tr>\n",
       "      <th>Arbeitslosigkeit und Grundsicherung</th>\n",
       "      <td>0.039</td>\n",
       "      <td>0.002068</td>\n",
       "    </tr>\n",
       "    <tr>\n",
       "      <th>Digitale Infrastruktur</th>\n",
       "      <td>0.004</td>\n",
       "      <td>0.002068</td>\n",
       "    </tr>\n",
       "    <tr>\n",
       "      <th>Politiker:innenkritik spezifisch</th>\n",
       "      <td>NaN</td>\n",
       "      <td>0.002068</td>\n",
       "    </tr>\n",
       "    <tr>\n",
       "      <th>Terrorismus</th>\n",
       "      <td>NaN</td>\n",
       "      <td>0.002068</td>\n",
       "    </tr>\n",
       "    <tr>\n",
       "      <th>Lohnpolitik</th>\n",
       "      <td>NaN</td>\n",
       "      <td>0.001034</td>\n",
       "    </tr>\n",
       "    <tr>\n",
       "      <th>Politikverdrossenheit</th>\n",
       "      <td>NaN</td>\n",
       "      <td>0.001034</td>\n",
       "    </tr>\n",
       "    <tr>\n",
       "      <th>Krieg in der Ukraine</th>\n",
       "      <td>NaN</td>\n",
       "      <td>0.001034</td>\n",
       "    </tr>\n",
       "    <tr>\n",
       "      <th>Lobbyismus</th>\n",
       "      <td>NaN</td>\n",
       "      <td>0.001034</td>\n",
       "    </tr>\n",
       "    <tr>\n",
       "      <th>Familienpolitik</th>\n",
       "      <td>NaN</td>\n",
       "      <td>0.001034</td>\n",
       "    </tr>\n",
       "    <tr>\n",
       "      <th>Sozialpolitik</th>\n",
       "      <td>0.001</td>\n",
       "      <td>0.001034</td>\n",
       "    </tr>\n",
       "    <tr>\n",
       "      <th>Wahlkampf und Regierungsbildung</th>\n",
       "      <td>NaN</td>\n",
       "      <td>0.001034</td>\n",
       "    </tr>\n",
       "    <tr>\n",
       "      <th>Gleichstellung</th>\n",
       "      <td>NaN</td>\n",
       "      <td>0.001034</td>\n",
       "    </tr>\n",
       "    <tr>\n",
       "      <th>Parteienkritik spezifisch</th>\n",
       "      <td>0.072</td>\n",
       "      <td>0.001034</td>\n",
       "    </tr>\n",
       "    <tr>\n",
       "      <th>Pflege</th>\n",
       "      <td>0.018</td>\n",
       "      <td>0.001034</td>\n",
       "    </tr>\n",
       "    <tr>\n",
       "      <th>Parteienkritik allgemein</th>\n",
       "      <td>NaN</td>\n",
       "      <td>0.001034</td>\n",
       "    </tr>\n",
       "    <tr>\n",
       "      <th>Energiepolitik</th>\n",
       "      <td>0.047</td>\n",
       "      <td>NaN</td>\n",
       "    </tr>\n",
       "    <tr>\n",
       "      <th>Infrastruktur</th>\n",
       "      <td>0.001</td>\n",
       "      <td>NaN</td>\n",
       "    </tr>\n",
       "  </tbody>\n",
       "</table>\n",
       "</div>"
      ],
      "text/plain": [
       "                                                  predicted_class  \\\n",
       "Corona-Pandemie                                             0.202   \n",
       "Klimapolitik                                                0.068   \n",
       "Migration und Integration                                   0.067   \n",
       "Soziale Gerechtigkeit                                       0.081   \n",
       "keine Angabe                                                0.009   \n",
       "Gesundheitspolitik                                          0.019   \n",
       "Werte, politische Kultur und Gesellschaftskritik            0.056   \n",
       "Sonstiges                                                   0.002   \n",
       "Armut                                                       0.112   \n",
       "Wirtschaftspolitik                                          0.052   \n",
       "Umweltpolitik                                               0.002   \n",
       "Radikalisierung und Extremismus                             0.001   \n",
       "Politische Strukturen und Prozesse                          0.042   \n",
       "Bildungspolitik                                             0.008   \n",
       "Preisniveau                                                 0.002   \n",
       "Innere Sicherheit                                           0.001   \n",
       "Kriminalität und Gewalt                                     0.002   \n",
       "Politiker:innenkritik allgemein                             0.003   \n",
       "Rente und Demographischer Wandel                            0.061   \n",
       "Korruption                                                  0.001   \n",
       "weiß nicht                                                    NaN   \n",
       "Wohnungspolitik                                             0.020   \n",
       "Recht und Justiz                                            0.001   \n",
       "Demokratie                                                  0.002   \n",
       "Außenpolitik                                                0.004   \n",
       "Arbeitslosigkeit und Grundsicherung                         0.039   \n",
       "Digitale Infrastruktur                                      0.004   \n",
       "Politiker:innenkritik spezifisch                              NaN   \n",
       "Terrorismus                                                   NaN   \n",
       "Lohnpolitik                                                   NaN   \n",
       "Politikverdrossenheit                                         NaN   \n",
       "Krieg in der Ukraine                                          NaN   \n",
       "Lobbyismus                                                    NaN   \n",
       "Familienpolitik                                               NaN   \n",
       "Sozialpolitik                                               0.001   \n",
       "Wahlkampf und Regierungsbildung                               NaN   \n",
       "Gleichstellung                                                NaN   \n",
       "Parteienkritik spezifisch                                   0.072   \n",
       "Pflege                                                      0.018   \n",
       "Parteienkritik allgemein                                      NaN   \n",
       "Energiepolitik                                              0.047   \n",
       "Infrastruktur                                               0.001   \n",
       "\n",
       "                                                  kp21_840_c1_str  \n",
       "Corona-Pandemie                                          0.566701  \n",
       "Klimapolitik                                             0.072389  \n",
       "Migration und Integration                                0.071355  \n",
       "Soziale Gerechtigkeit                                    0.042399  \n",
       "keine Angabe                                             0.027921  \n",
       "Gesundheitspolitik                                       0.020683  \n",
       "Werte, politische Kultur und Gesellschaftskritik         0.020683  \n",
       "Sonstiges                                                0.019648  \n",
       "Armut                                                    0.019648  \n",
       "Wirtschaftspolitik                                       0.018614  \n",
       "Umweltpolitik                                            0.012410  \n",
       "Radikalisierung und Extremismus                          0.010341  \n",
       "Politische Strukturen und Prozesse                       0.009307  \n",
       "Bildungspolitik                                          0.009307  \n",
       "Preisniveau                                              0.009307  \n",
       "Innere Sicherheit                                        0.007239  \n",
       "Kriminalität und Gewalt                                  0.006205  \n",
       "Politiker:innenkritik allgemein                          0.006205  \n",
       "Rente und Demographischer Wandel                         0.006205  \n",
       "Korruption                                               0.006205  \n",
       "weiß nicht                                               0.005171  \n",
       "Wohnungspolitik                                          0.003102  \n",
       "Recht und Justiz                                         0.003102  \n",
       "Demokratie                                               0.003102  \n",
       "Außenpolitik                                             0.003102  \n",
       "Arbeitslosigkeit und Grundsicherung                      0.002068  \n",
       "Digitale Infrastruktur                                   0.002068  \n",
       "Politiker:innenkritik spezifisch                         0.002068  \n",
       "Terrorismus                                              0.002068  \n",
       "Lohnpolitik                                              0.001034  \n",
       "Politikverdrossenheit                                    0.001034  \n",
       "Krieg in der Ukraine                                     0.001034  \n",
       "Lobbyismus                                               0.001034  \n",
       "Familienpolitik                                          0.001034  \n",
       "Sozialpolitik                                            0.001034  \n",
       "Wahlkampf und Regierungsbildung                          0.001034  \n",
       "Gleichstellung                                           0.001034  \n",
       "Parteienkritik spezifisch                                0.001034  \n",
       "Pflege                                                   0.001034  \n",
       "Parteienkritik allgemein                                 0.001034  \n",
       "Energiepolitik                                                NaN  \n",
       "Infrastruktur                                                 NaN  "
      ]
     },
     "execution_count": 47,
     "metadata": {},
     "output_type": "execute_result"
    }
   ],
   "source": [
    "import matplotlib.pyplot as plt\n",
    "import seaborn as sns\n",
    "import pandas as pd\n",
    "import json\n",
    "\n",
    "data=pd.concat([a.predicted_class.value_counts(1),a.kp21_840_c1_str.value_counts(1)],axis=1).sort_values('kp21_840_c1_str',ascending=False)\n",
    "\n"
   ]
  },
  {
   "cell_type": "code",
   "execution_count": null,
   "id": "dfeb254d",
   "metadata": {},
   "outputs": [],
   "source": [
    "\n"
   ]
  },
  {
   "cell_type": "code",
   "execution_count": null,
   "id": "7218b5b5",
   "metadata": {},
   "outputs": [],
   "source": []
  },
  {
   "cell_type": "code",
   "execution_count": null,
   "id": "1f57e7b2",
   "metadata": {},
   "outputs": [],
   "source": [
    "import pandas as pd\n",
    "\n",
    "# Prepare the proportions data for both predicted and actual classes\n",
    "predicted_proportions = gles_with_open_ended.groupby(['leaning_party', 'predicted_class']).size().groupby(level=0).apply(lambda x: x / float(x.sum())).reset_index(name='proportion')\n",
    "actual_proportions = gles_with_open_ended.groupby(['leaning_party', 'kp21_840_c1_str']).size().groupby(level=0).apply(lambda x: x / float(x.sum())).reset_index(name='proportion')\n",
    "\n",
    "# Add a column to distinguish between actual and predicted\n",
    "predicted_proportions['Type'] = 'Predicted'\n",
    "actual_proportions['Type'] = 'Actual'\n",
    "\n",
    "# Rename classes columns for consistency\n",
    "predicted_proportions.rename(columns={'predicted_class': 'Class'}, inplace=True)\n",
    "actual_proportions.rename(columns={'actual_class': 'Class'}, inplace=True)\n",
    "\n",
    "# Combine the data\n",
    "combined_proportions = pd.concat([predicted_proportions, actual_proportions])\n",
    "import seaborn as sns\n",
    "import matplotlib.pyplot as plt\n",
    "\n",
    "# Set the seaborn style\n",
    "sns.set(style=\"whitegrid\")\n",
    "\n",
    "# Create the bar plot\n",
    "plt.figure(figsize=(16, 10))  # Adjust the figure size as needed\n",
    "barplot = sns.barplot(data=combined_proportions, x='leaning_party', y='proportion', hue='Type', ci=None, palette='pastel', dodge=True)\n",
    "\n",
    "# Improve layout\n",
    "plt.xticks(rotation=45)  # Rotate the x-axis labels for better readability\n",
    "plt.ylabel('Proportion')\n",
    "plt.xlabel('Leaning Party')\n",
    "plt.title('Comparison of Actual vs Predicted Classes by Leaning Party')\n",
    "plt.legend(title='Type')  # Add a legend\n",
    "\n",
    "# Annotate each bar with the corresponding class for clarity\n",
    "for p in barplot.patches:\n",
    "    barplot.annotate(format(p.get_height(), '.2f'), \n",
    "                     (p.get_x() + p.get_width() / 2., p.get_height()), \n",
    "                     ha = 'center', va = 'center', \n",
    "                     xytext = (0, 9), \n",
    "                     textcoords = 'offset points')\n",
    "\n",
    "plt.tight_layout()  # Adjust the layout to fit everything\n",
    "plt.show()\n"
   ]
  },
  {
   "cell_type": "code",
   "execution_count": null,
   "id": "30fc36f5",
   "metadata": {},
   "outputs": [],
   "source": []
  },
  {
   "cell_type": "code",
   "execution_count": 196,
   "id": "521a0c04",
   "metadata": {},
   "outputs": [
    {
     "name": "stderr",
     "output_type": "stream",
     "text": [
      "huggingface/tokenizers: The current process just got forked, after parallelism has already been used. Disabling parallelism to avoid deadlocks...\n",
      "To disable this warning, you can either:\n",
      "\t- Avoid using `tokenizers` before the fork if possible\n",
      "\t- Explicitly set the environment variable TOKENIZERS_PARALLELISM=(true | false)\n"
     ]
    },
    {
     "name": "stdout",
     "output_type": "stream",
     "text": [
      "Looking in indexes: https://pypi.org/simple, https://pypi.ngc.nvidia.com\n",
      "Collecting plotly\n",
      "  Downloading plotly-5.19.0-py3-none-any.whl.metadata (7.0 kB)\n",
      "Collecting tenacity>=6.2.0 (from plotly)\n",
      "  Downloading tenacity-8.2.3-py3-none-any.whl.metadata (1.0 kB)\n",
      "Requirement already satisfied: packaging in /usr/local/lib/python3.10/dist-packages (from plotly) (23.2)\n",
      "Downloading plotly-5.19.0-py3-none-any.whl (15.7 MB)\n",
      "\u001b[2K   \u001b[90m━━━━━━━━━━━━━━━━━━━━━━━━━━━━━━━━━━━━━━━━\u001b[0m \u001b[32m15.7/15.7 MB\u001b[0m \u001b[31m58.0 MB/s\u001b[0m eta \u001b[36m0:00:00\u001b[0ma \u001b[36m0:00:01\u001b[0m\n",
      "\u001b[?25hDownloading tenacity-8.2.3-py3-none-any.whl (24 kB)\n",
      "Installing collected packages: tenacity, plotly\n",
      "Successfully installed plotly-5.19.0 tenacity-8.2.3\n",
      "\n",
      "\u001b[1m[\u001b[0m\u001b[34;49mnotice\u001b[0m\u001b[1;39;49m]\u001b[0m\u001b[39;49m A new release of pip is available: \u001b[0m\u001b[31;49m23.3.1\u001b[0m\u001b[39;49m -> \u001b[0m\u001b[32;49m24.0\u001b[0m\n",
      "\u001b[1m[\u001b[0m\u001b[34;49mnotice\u001b[0m\u001b[1;39;49m]\u001b[0m\u001b[39;49m To update, run: \u001b[0m\u001b[32;49mpython -m pip install --upgrade pip\u001b[0m\n"
     ]
    }
   ],
   "source": [
    "!pip install plotly"
   ]
  },
  {
   "cell_type": "code",
   "execution_count": null,
   "id": "c353910b",
   "metadata": {},
   "outputs": [],
   "source": [
    "# Convert dictionaries to pandas DataFrames\n",
    "actual_df = pd.DataFrame(list(data['kp21_840_c1_str'].items()), columns=['Category', 'Actual'])\n",
    "synthetic_df = pd.DataFrame(list(data['predicted_class'].items()), columns=['Category', 'Synthetic'])\n",
    "\n",
    "# Merge the two dataframes on Category\n",
    "merged_df = pd.merge(actual_df, synthetic_df, on='Category', how='outer').fillna(0)  # Fill NaN with 0\n",
    "\n"
   ]
  },
  {
   "cell_type": "code",
   "execution_count": 198,
   "id": "6c1db442",
   "metadata": {},
   "outputs": [],
   "source": [
    "import pandas as pd\n",
    "import plotly.graph_objects as go\n",
    "from collections import Counter\n",
    "\n",
    "# Assuming 'c' is your actual DataFrame\n",
    "# Replace 'df' with 'c' and column names with your actual column names\n",
    "count_survey_answer = Counter(c['survey_answer_coded'])\n",
    "count_ex1_coded = Counter(c['ex1_coded'])\n",
    "count_ex2_coded = Counter(c['ex2_coded'])\n",
    "\n",
    "# Create a new DataFrame from the counts\n",
    "frequency_df = pd.DataFrame({\n",
    "    'Class': list(set(c['survey_answer_coded']) | set(c['ex1_coded']) | set(c['ex2_coded'])),  # Union of all classes\n",
    "}).set_index('Class')\n",
    "\n",
    "# Fill in the frequencies, replacing missing values with 0\n",
    "frequency_df['survey_answer_coded'] = frequency_df.index.map(count_survey_answer).fillna(0)\n",
    "frequency_df['ex1_coded'] = frequency_df.index.map(count_ex1_coded).fillna(0)\n",
    "frequency_df['ex2_coded'] = frequency_df.index.map(count_ex2_coded).fillna(0)\n",
    "\n",
    "# Plotting\n",
    "fig = go.Figure(data=[\n",
    "    go.Bar(name='Survey Answer', x=frequency_df.index, y=frequency_df['survey_answer_coded'], marker_color='indianred'),\n",
    "    go.Bar(name='Ex1 Coded', x=frequency_df.index, y=frequency_df['ex1_coded'], marker_color='lightsalmon'),\n",
    "    go.Bar(name='Ex2 Coded', x=frequency_df.index, y=frequency_df['ex2_coded'], marker_color='lightcoral')\n",
    "])\n",
    "\n",
    "# Change the bar mode\n",
    "fig.update_layout(\n",
    "    barmode='group',\n",
    "    title='Class Frequencies Across Columns',\n",
    "    xaxis_title='Class',\n",
    "    yaxis_title='Frequency',\n",
    "    legend_title_text='Columns',\n",
    "    xaxis_tickangle=-45,  # Rotate labels to prevent overlap\n",
    "\n",
    ")\n",
    "\n",
    "# Show the figure\n",
    "fig.write_html('3_barplot.html')\n"
   ]
  },
  {
   "cell_type": "code",
   "execution_count": null,
   "id": "61d42956",
   "metadata": {},
   "outputs": [],
   "source": [
    "import plotly.graph_objects as go\n",
    "import pandas as pd\n",
    "\n",
    "# Assuming merged_df is your prepared DataFrame from earlier steps\n",
    "\n",
    "# Convert 'Percentage' values to logarithmic scale for better visualization,\n",
    "# if necessary. Adjust based on whether your data needs this.\n",
    "# merged_df['Actual'] = merged_df['Actual'].apply(lambda x: np.log10(x+1))  # Log-transform if necessary\n",
    "# merged_df['Synthetic'] = merged_df['Synthetic'].apply(lambda x: np.log10(x+1))  # Log-transform if necessary\n",
    "\n",
    "# Create traces for Actual and Synthetic data\n",
    "trace1 = go.Bar(\n",
    "    x=merged_df['Category'], \n",
    "    y=merged_df['Actual'], \n",
    "    name='Actual',\n",
    "    marker=dict(color='RoyalBlue')\n",
    ")\n",
    "trace2 = go.Bar(\n",
    "    x=merged_df['Category'], \n",
    "    y=merged_df['Synthetic'], \n",
    "    name='Synthetic',\n",
    "    marker=dict(color='Crimson')\n",
    ")\n",
    "trace3 = go.Bar(\n",
    "    x=merged_df['Category'], \n",
    "    y=merged_df['Synthetic2'], \n",
    "    name='Synthetic',\n",
    "    marker=dict(color='Crimson')\n",
    ")\n",
    "\n",
    "# Combine the traces in a single figure\n",
    "fig = go.Figure(data=[trace1, trace2,trace3])\n",
    "\n",
    "# Update layout for a clearer view\n",
    "fig.update_layout(\n",
    "    title='Comparison of Actual vs Synthetic Answer Codes for model=meta-llama/Llama-2-13b-chat-hf, sample_size=1000',\n",
    "    xaxis_tickangle=-45,  # Rotate labels to prevent overlap\n",
    "    xaxis_title='Category',\n",
    "    yaxis_title='Percentage (log scale)',\n",
    "    barmode='group',  # Group bars for side-by-side comparison\n",
    "    legend_title_text='Type'\n",
    ")\n",
    "\n",
    "output_file_path = 'comparison_chart2.html'\n",
    "\n",
    "# Save the figure as an HTML file\n",
    "fig.write_html(output_file_path)"
   ]
  },
  {
   "cell_type": "code",
   "execution_count": null,
   "id": "879c8af3",
   "metadata": {},
   "outputs": [],
   "source": [
    "\n",
    "plt.xticks(rotation=90)  # Rotate category names for better readability\n",
    "plt.yscale('log')  # Use logarithmic scale to better visualize small values\n",
    "plt.ylabel('Percentage (log scale)')\n",
    "plt.xlabel('Category')\n",
    "plt.title('Comparison of Actual vs Synthetic Percentages')\n",
    "\n",
    "plt.tight_layout()\n",
    "plt.legend(title='Type')\n",
    "plt.savefig(\"a.png\")\n"
   ]
  },
  {
   "cell_type": "code",
   "execution_count": null,
   "id": "4aa8400d",
   "metadata": {},
   "outputs": [],
   "source": [
    "merged_df"
   ]
  },
  {
   "cell_type": "code",
   "execution_count": null,
   "id": "afb99762",
   "metadata": {},
   "outputs": [],
   "source": []
  }
 ],
 "metadata": {
  "kernelspec": {
   "display_name": "Python 3 (ipykernel)",
   "language": "python",
   "name": "python3"
  },
  "language_info": {
   "codemirror_mode": {
    "name": "ipython",
    "version": 3
   },
   "file_extension": ".py",
   "mimetype": "text/x-python",
   "name": "python",
   "nbconvert_exporter": "python",
   "pygments_lexer": "ipython3",
   "version": "3.10.12"
  }
 },
 "nbformat": 4,
 "nbformat_minor": 5
}
