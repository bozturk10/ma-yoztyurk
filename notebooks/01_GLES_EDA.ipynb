{
 "cells": [
  {
   "cell_type": "code",
   "execution_count": 8,
   "id": "3736100d",
   "metadata": {},
   "outputs": [
    {
     "name": "stdout",
     "output_type": "stream",
     "text": [
      "ZA6838_wa2_sA_v6-0-0.dta\n"
     ]
    }
   ],
   "source": [
    "#!pip install -e ../\n",
    "#get path of all stata files\n",
    "import os\n",
    "import re\n",
    "import pandas as pd\n",
    "RAW_DATA_DIR=  os.path.join('..', 'data','raw')  \n",
    "GLES_DIR=  os.path.join(RAW_DATA_DIR,\"GLES\")  \n",
    "\n",
    "code_df= pd.read_csv(os.path.join(GLES_DIR,r\"first_most_imp_coding_list.csv\"), sep=',')\n",
    "coding_list_dict = dict(zip(code_df.Code, code_df.Category))\n",
    "\n",
    "stata_files = [f for f in os.listdir(GLES_DIR) if f.endswith('.dta') and f.startswith('ZA6838_w') ]\n",
    "d={}\n",
    "for file in stata_files:\n",
    "    try:\n",
    "        wave = re.search(r'_w(\\d+)', file).group(1)\n",
    "        keyname=\"kp{}_840_c1\".format(wave)\n",
    "        wave_date = pd.to_datetime(pd.read_stata(os.path.join(GLES_DIR, file), convert_categoricals=False).field_start.iloc[0]).date()\n",
    "        d[keyname] = {'start_date':wave_date,'fname':file}\n",
    "    except:\n",
    "        print('error while processing',file) \n",
    "        \n",
    "        \n",
    "df_coding_840s= pd.read_csv(os.path.join(RAW_DATA_DIR, r\"ZA7957_6838_v2.0.0.csv\"), sep=';',encoding='iso-8859-1')\n",
    "\n",
    "col_value_counts_df=pd.DataFrame()\n",
    "for col in df_coding_840s.filter(regex='_840_c1').columns:\n",
    "    col_value_counts = df_coding_840s[col][df_coding_840s[col].ge(0)].value_counts(1)\n",
    "    #col_value_counts = col_value_counts[col_value_counts.ge(0.001)]\n",
    "    col_value_counts_df[col]= col_value_counts\n",
    "col_value_counts_df.index = col_value_counts_df.index.map(coding_list_dict,na_action='ignore')\n",
    "col_value_counts_df=col_value_counts_df.fillna(0)\n",
    "\n",
    "a= col_value_counts_df.T.melt(var_name='Category',value_name='Percentage',ignore_index=False).reset_index().rename(columns={'index':'wave'})\n",
    "a['date']= a.wave.map(d)\n",
    "a=a.query('date==date')\n"
   ]
  },
  {
   "cell_type": "code",
   "execution_count": 9,
   "id": "f4e33324",
   "metadata": {},
   "outputs": [],
   "source": [
    "import plotly.express as px\n",
    "\n",
    "fig = px.line(a, x='date', y='Percentage',color='Category',title='Percentage of Categories in Open-Ended Questions',labels={'Percentage':'Percentage of Categories','wave':'Wave','Category':'Category'})\n",
    "fig.write_html('wave_class_perc.html')"
   ]
  },
  {
   "cell_type": "code",
   "execution_count": null,
   "id": "c9a916f3",
   "metadata": {},
   "outputs": [],
   "source": []
  }
 ],
 "metadata": {
  "kernelspec": {
   "display_name": "Python 3 (ipykernel)",
   "language": "python",
   "name": "python3"
  },
  "language_info": {
   "codemirror_mode": {
    "name": "ipython",
    "version": 3
   },
   "file_extension": ".py",
   "mimetype": "text/x-python",
   "name": "python",
   "nbconvert_exporter": "python",
   "pygments_lexer": "ipython3",
   "version": "3.10.12"
  }
 },
 "nbformat": 4,
 "nbformat_minor": 5
}
