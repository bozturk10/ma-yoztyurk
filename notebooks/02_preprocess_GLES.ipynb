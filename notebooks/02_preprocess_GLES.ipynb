{
 "cells": [
  {
   "cell_type": "code",
   "execution_count": 1,
   "metadata": {},
   "outputs": [],
   "source": [
    "import json\n",
    "import os\n",
    "import pandas as pd\n",
    "import re\n",
    "from src.data.process_data import process_open_ended, process_wave_data\n",
    "from src.data.read_data import load_raw_survey_data, read_stata_file\n",
    "from src.paths import CODING_DIR, GLES_DIR, PROCESSED_DATA_DIR, PROJECT_DIR, PROMPT_DIR, RAW_DATA_DIR\n",
    "from src.utils import format_prompt\n"
   ]
  },
  {
   "cell_type": "code",
   "execution_count": 2,
   "metadata": {},
   "outputs": [],
   "source": [
    "\n",
    "wave_number = 12\n",
    "prompt_fpath=os.path.join(PROMPT_DIR,'10_prompt_with_vocational_training.txt')  \n",
    "wave_df, wave_open_ended_df, df_coding_840s = load_raw_survey_data(wave_number)\n",
    "wave_open_ended_df = process_open_ended(wave_open_ended_df, df_coding_840s, wave_number)\n",
    "wave_df_processed = process_wave_data(wave_df, wave_open_ended_df, wave_number)\n",
    "wave_df_processed['formatted_prompt'] = wave_df_processed.apply(lambda row: format_prompt(prompt_fpath,row), axis=1)"
   ]
  },
  {
   "cell_type": "code",
   "execution_count": 12,
   "metadata": {},
   "outputs": [
    {
     "data": {
      "text/plain": [
       "0.052439286481839674"
      ]
     },
     "execution_count": 12,
     "metadata": {},
     "output_type": "execute_result"
    }
   ],
   "source": [
    "(wave_df.shape[0]-.shape[0] )/ wave_df_processed.shape[0]"
   ]
  },
  {
   "cell_type": "code",
   "execution_count": null,
   "metadata": {},
   "outputs": [],
   "source": [
    "import pandas as pd\n",
    "\n",
    "a= pd.read_csv('/dss/dsshome1/0F/ra46lup2/ma-yoztyurk/ZA7957_7707_v2.0.0/ZA7957_6838_v2.0.0.csv',sep=';').filter(regex=r'kp12_840_c').ge(0).astype(int).sum(axis=1)\n",
    "a= a[a>0]\n",
    "a.value_counts(1)"
   ]
  },
  {
   "cell_type": "code",
   "execution_count": null,
   "metadata": {},
   "outputs": [],
   "source": [
    "for i in range(10,21):\n",
    "    a= pd.read_csv('/dss/dsshome1/0F/ra46lup2/ma-yoztyurk/ZA7957_7707_v2.0.0/ZA7957_6838_v2.0.0.csv',sep=';').filter(regex=f'kp{i}_840_c').ge(0).astype(int).sum(axis=1)\n",
    "    a= a[a>0]\n",
    "    print('wave ',i)\n",
    "    print('%',a.value_counts(1).iloc[0] *100 ,'of answers have 1 label in wave',i)\n",
    "    print('%',a.value_counts(1).iloc[1] *100 ,'of answers have 2 labels in wave',i)\n",
    "    print('%',a.value_counts(1).iloc[2] *100 ,'of answers have 3 labels in wave',i)\n",
    "\n",
    "    print('- - - - - - -')\n"
   ]
  },
  {
   "cell_type": "code",
   "execution_count": null,
   "metadata": {},
   "outputs": [],
   "source": [
    "#pick last 20 cols\n",
    "wave_df_processed= wave_df_processed[wave_df_processed.kp12_2090a.notna()]\n",
    "wave_df_processed= wave_df_processed[wave_df_processed.kpx_840_class1_name.notna()]\n",
    "\n",
    "wave_df_processed[wave_df_processed['kpx_840_text'].str.len()>20].filter(regex='lfdn$|^age|gender|leaning_party|ostwest|edu|clause|kpx_840_text|kpx_840_class1_name')#.kp12_2090a.value_counts()\n",
    "#filter where len of kpx_840_text > 20 and kpx_840_text is not null\n"
   ]
  },
  {
   "cell_type": "code",
   "execution_count": null,
   "metadata": {},
   "outputs": [],
   "source": []
  },
  {
   "cell_type": "code",
   "execution_count": null,
   "metadata": {},
   "outputs": [],
   "source": [
    "from pprint import pprint\n",
    "\n",
    "ll=[]\n",
    "for row in wave_df_processed.formatted_prompt.iloc[40:55].values:\n",
    "    ll.append( row.split(\"<</SYS>>\",1)[1].strip(r'[/INST]')[:-9])\n",
    "    #print(row)\n",
    "    print( row.split(\"<</SYS>>\",1)[1].strip(r'[/INST]')[:-9])"
   ]
  },
  {
   "cell_type": "code",
   "execution_count": null,
   "metadata": {},
   "outputs": [],
   "source": [
    " \n",
    "\n",
    "cols_to_stratify = [\n",
    "'ostwest',\n",
    " 'leaning_party',\n",
    " 'gender',\n",
    " 'age_group',\n",
    "]\n",
    "\n",
    "strata_counts = wave_df_processed.groupby(cols_to_stratify).size().reset_index(name='counts').sort_values(by=\"counts\")\n",
    "strata_counts"
   ]
  },
  {
   "cell_type": "code",
   "execution_count": null,
   "metadata": {},
   "outputs": [],
   "source": []
  }
 ],
 "metadata": {
  "kernelspec": {
   "display_name": "Python 3 (ipykernel)",
   "language": "python",
   "name": "python3"
  },
  "language_info": {
   "codemirror_mode": {
    "name": "ipython",
    "version": 3
   },
   "file_extension": ".py",
   "mimetype": "text/x-python",
   "name": "python",
   "nbconvert_exporter": "python",
   "pygments_lexer": "ipython3",
   "version": "3.10.12"
  }
 },
 "nbformat": 4,
 "nbformat_minor": 4
}
