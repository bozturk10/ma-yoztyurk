{
 "cells": [
  {
   "cell_type": "code",
   "execution_count": 1,
   "metadata": {},
   "outputs": [
    {
     "name": "stderr",
     "output_type": "stream",
     "text": [
      "/usr/local/lib/python3.10/dist-packages/tqdm/auto.py:21: TqdmWarning: IProgress not found. Please update jupyter and ipywidgets. See https://ipywidgets.readthedocs.io/en/stable/user_install.html\n",
      "  from .autonotebook import tqdm as notebook_tqdm\n",
      "2024-07-18 14:33:58.681467: I tensorflow/core/platform/cpu_feature_guard.cc:211] This TensorFlow binary is optimized to use available CPU instructions in performance-critical operations.\n",
      "To enable the following instructions: SSE3 SSE4.1 SSE4.2 AVX, in other operations, rebuild TensorFlow with the appropriate compiler flags.\n"
     ]
    },
    {
     "name": "stdout",
     "output_type": "stream",
     "text": [
      "root /dss/dsshome1/0F/ra46lup2/ma-yoztyurk/data/labeled_04_05\n",
      "dirs ['mixtral_new', 'gemma', 'base_annot', 'llama']\n",
      "root /dss/dsshome1/0F/ra46lup2/ma-yoztyurk/data/labeled_04_05/mixtral_new\n",
      "dirs []\n",
      "root /dss/dsshome1/0F/ra46lup2/ma-yoztyurk/data/labeled_04_05/gemma\n",
      "dirs []\n",
      "root /dss/dsshome1/0F/ra46lup2/ma-yoztyurk/data/labeled_04_05/base_annot\n",
      "dirs []\n",
      "root /dss/dsshome1/0F/ra46lup2/ma-yoztyurk/data/labeled_04_05/llama\n",
      "dirs []\n"
     ]
    }
   ],
   "source": [
    "import argparse\n",
    "import wandb\n",
    "import os \n",
    "import pandas as pd\n",
    "from src.paths import CODING_DIR, LOGS_DIR\n",
    "from src.bert.metrics import define_metrics, get_compute_metrics_function\n",
    "from src.bert.data_prep import (\n",
    "    get_annotated_answers, get_answer_df, get_classid2trainid,\n",
    "    get_label2str_dict, prepare_test_dataset, prepare_train_dataset,\n",
    "    split_llm_train_test, split_train_test_df\n",
    ")\n",
    "from src.bert.bert_classifier import BertClassifier\n",
    "class_mode='coarse'\n",
    "i=12\n",
    "answer_df = get_answer_df(class_mode,drop_duplicates=True)\n",
    "train_df, test_df = split_train_test_df(answer_df, i)\n",
    "llm_answer_df = get_annotated_answers()\n",
    "llm_train_df, llm_test_df = split_llm_train_test(llm_answer_df, test_size=0.2)\n",
    "train_df_combined = pd.concat([train_df, llm_train_df])\n",
    "test_df_combined = pd.concat([test_df, llm_test_df])"
   ]
  },
  {
   "cell_type": "code",
   "execution_count": 7,
   "metadata": {},
   "outputs": [],
   "source": [
    "%load_ext autoreload\n",
    "%autoreload 2"
   ]
  },
  {
   "cell_type": "code",
   "execution_count": 10,
   "metadata": {},
   "outputs": [],
   "source": [
    "answer_df2 = get_answer_df(class_mode,drop_duplicates=False)\n"
   ]
  },
  {
   "cell_type": "code",
   "execution_count": 11,
   "metadata": {},
   "outputs": [
    {
     "data": {
      "text/plain": [
       "(156787, 8)"
      ]
     },
     "execution_count": 11,
     "metadata": {},
     "output_type": "execute_result"
    }
   ],
   "source": [
    "answer_df2.shape"
   ]
  },
  {
   "cell_type": "code",
   "execution_count": 12,
   "metadata": {},
   "outputs": [
    {
     "data": {
      "text/plain": [
       "(40713, 8)"
      ]
     },
     "execution_count": 12,
     "metadata": {},
     "output_type": "execute_result"
    }
   ],
   "source": [
    "answer_df.shape"
   ]
  },
  {
   "cell_type": "code",
   "execution_count": 5,
   "metadata": {},
   "outputs": [],
   "source": [
    "answer_df['labels_count']= answer_df['labels_list'].apply(lambda x: len(x))\n",
    "\n",
    "llm_answer_df['labels_count']= llm_answer_df['labels_list'].apply(lambda x: len(x))\n"
   ]
  },
  {
   "cell_type": "code",
   "execution_count": 6,
   "metadata": {},
   "outputs": [
    {
     "data": {
      "text/plain": [
       "1.1919794370133758"
      ]
     },
     "execution_count": 6,
     "metadata": {},
     "output_type": "execute_result"
    }
   ],
   "source": [
    "answer_df['labels_count'].mean()\n"
   ]
  },
  {
   "cell_type": "code",
   "execution_count": 15,
   "metadata": {},
   "outputs": [
    {
     "data": {
      "text/plain": [
       "2895.1875"
      ]
     },
     "execution_count": 15,
     "metadata": {},
     "output_type": "execute_result"
    }
   ],
   "source": [
    "survey_labels_matrix=  pd.DataFrame(answer_df['labels'].tolist(), columns=label_names )\n",
    "survey_labels_matrix.drop(list(survey_labels_matrix.filter(regex='LLM refusal')), axis=1, inplace=True)\n",
    "survey_labels_matrix.sum(axis=0).mean()"
   ]
  },
  {
   "cell_type": "code",
   "execution_count": 23,
   "metadata": {},
   "outputs": [
    {
     "data": {
      "text/plain": [
       "Politische Strukturen und Prozesse                   5965.0\n",
       "Sozialpolitik                                        5421.0\n",
       "Gesundheitspolitik                                  10321.0\n",
       "Familien- und Gleichstellungspolitik                  322.0\n",
       "Bildungspolitik                                       660.0\n",
       "Umweltpolitik                                        2938.0\n",
       "Wirtschaftspolitik                                   6830.0\n",
       "Sicherheits                                          2543.0\n",
       "Außenpolitik                                          707.0\n",
       "Medien und Kommunikation                               93.0\n",
       "Sonstiges                                            2290.0\n",
       "Migration und Integration                            4837.0\n",
       "Ostdeutschland                                        169.0\n",
       "keine Angabe                                         1051.0\n",
       "weiß nich                                             225.0\n",
       "Werte, politische Kultur und Gesellschaftskritik     1951.0\n",
       "dtype: float64"
      ]
     },
     "execution_count": 23,
     "metadata": {},
     "output_type": "execute_result"
    }
   ],
   "source": [
    "survey_labels_matrix.sum(axis=)"
   ]
  },
  {
   "cell_type": "code",
   "execution_count": 24,
   "metadata": {},
   "outputs": [
    {
     "data": {
      "text/plain": [
       "Politische Strukturen und Prozesse                   5965.0\n",
       "Sozialpolitik                                        5421.0\n",
       "Gesundheitspolitik                                  10321.0\n",
       "Familien- und Gleichstellungspolitik                  322.0\n",
       "Bildungspolitik                                       660.0\n",
       "Umweltpolitik                                        2938.0\n",
       "Wirtschaftspolitik                                   6830.0\n",
       "Sicherheits                                          2543.0\n",
       "Außenpolitik                                          707.0\n",
       "Medien und Kommunikation                               93.0\n",
       "Sonstiges                                            2290.0\n",
       "Migration und Integration                            4837.0\n",
       "Ostdeutschland                                        169.0\n",
       "keine Angabe                                         1051.0\n",
       "weiß nich                                             225.0\n",
       "Werte, politische Kultur und Gesellschaftskritik     1951.0\n",
       "dtype: float64"
      ]
     },
     "execution_count": 24,
     "metadata": {},
     "output_type": "execute_result"
    }
   ],
   "source": [
    "survey_labels_matrix.sum(axis=0)#.divide(survey_labels_matrix.sum(axis=0).sum())#.value_counts(1)"
   ]
  },
  {
   "cell_type": "code",
   "execution_count": 25,
   "metadata": {},
   "outputs": [
    {
     "data": {
      "text/plain": [
       "Politische Strukturen und Prozesse                  234.0\n",
       "Sozialpolitik                                       162.0\n",
       "Gesundheitspolitik                                  311.0\n",
       "Familien- und Gleichstellungspolitik                 10.0\n",
       "Bildungspolitik                                      11.0\n",
       "Umweltpolitik                                       267.0\n",
       "Wirtschaftspolitik                                  301.0\n",
       "Sicherheits                                          31.0\n",
       "Außenpolitik                                        279.0\n",
       "Medien und Kommunikation                              1.0\n",
       "Sonstiges                                             3.0\n",
       "Migration und Integration                           150.0\n",
       "Ostdeutschland                                       14.0\n",
       "keine Angabe                                          3.0\n",
       "weiß nich                                             0.0\n",
       "Werte, politische Kultur und Gesellschaftskritik    193.0\n",
       "dtype: float64"
      ]
     },
     "execution_count": 25,
     "metadata": {},
     "output_type": "execute_result"
    }
   ],
   "source": [
    "llm_labels_matrix.sum(axis=0)#.divide(llm_labels_matrix.sum(axis=0).sum())#.value_counts(1)"
   ]
  },
  {
   "cell_type": "code",
   "execution_count": 7,
   "metadata": {},
   "outputs": [
    {
     "data": {
      "text/html": [
       "<div>\n",
       "<style scoped>\n",
       "    .dataframe tbody tr th:only-of-type {\n",
       "        vertical-align: middle;\n",
       "    }\n",
       "\n",
       "    .dataframe tbody tr th {\n",
       "        vertical-align: top;\n",
       "    }\n",
       "\n",
       "    .dataframe thead th {\n",
       "        text-align: right;\n",
       "    }\n",
       "</style>\n",
       "<table border=\"1\" class=\"dataframe\">\n",
       "  <thead>\n",
       "    <tr style=\"text-align: right;\">\n",
       "      <th></th>\n",
       "      <th>user_id</th>\n",
       "      <th>model</th>\n",
       "      <th>text</th>\n",
       "      <th>label</th>\n",
       "      <th>folder</th>\n",
       "      <th>file_name</th>\n",
       "      <th>labels_list</th>\n",
       "      <th>labels</th>\n",
       "      <th>wave</th>\n",
       "      <th>labels_count</th>\n",
       "    </tr>\n",
       "  </thead>\n",
       "  <tbody>\n",
       "    <tr>\n",
       "      <th>0</th>\n",
       "      <td>16913.0</td>\n",
       "      <td>mistralai/Mixtral-8x7B-Instruct-v0.1</td>\n",
       "      <td>Eines der wichtigsten Probleme, mit denen Deut...</td>\n",
       "      <td>5</td>\n",
       "      <td>mixtral_new</td>\n",
       "      <td>mixtral_new/chunk_2.json</td>\n",
       "      <td>[5]</td>\n",
       "      <td>[0.0, 0.0, 0.0, 0.0, 0.0, 1.0, 0.0, 0.0, 0.0, ...</td>\n",
       "      <td>synthetic</td>\n",
       "      <td>1</td>\n",
       "    </tr>\n",
       "    <tr>\n",
       "      <th>1</th>\n",
       "      <td>1399.0</td>\n",
       "      <td>mistralai/Mixtral-8x7B-Instruct-v0.1</td>\n",
       "      <td>Eines der wichtigsten Probleme, mit denen Deut...</td>\n",
       "      <td>5</td>\n",
       "      <td>mixtral_new</td>\n",
       "      <td>mixtral_new/chunk_2.json</td>\n",
       "      <td>[5]</td>\n",
       "      <td>[0.0, 0.0, 0.0, 0.0, 0.0, 1.0, 0.0, 0.0, 0.0, ...</td>\n",
       "      <td>synthetic</td>\n",
       "      <td>1</td>\n",
       "    </tr>\n",
       "    <tr>\n",
       "      <th>2</th>\n",
       "      <td>4858.0</td>\n",
       "      <td>mistralai/Mixtral-8x7B-Instruct-v0.1</td>\n",
       "      <td>Eines der wichtigsten Probleme, mit denen Deut...</td>\n",
       "      <td>16,7</td>\n",
       "      <td>mixtral_new</td>\n",
       "      <td>mixtral_new/chunk_2.json</td>\n",
       "      <td>[16, 7]</td>\n",
       "      <td>[0.0, 0.0, 0.0, 0.0, 0.0, 0.0, 0.0, 1.0, 0.0, ...</td>\n",
       "      <td>synthetic</td>\n",
       "      <td>2</td>\n",
       "    </tr>\n",
       "    <tr>\n",
       "      <th>3</th>\n",
       "      <td>11771.0</td>\n",
       "      <td>mistralai/Mixtral-8x7B-Instruct-v0.1</td>\n",
       "      <td>Eines der wichtigsten Probleme, mit denen Deut...</td>\n",
       "      <td>5</td>\n",
       "      <td>mixtral_new</td>\n",
       "      <td>mixtral_new/chunk_2.json</td>\n",
       "      <td>[5]</td>\n",
       "      <td>[0.0, 0.0, 0.0, 0.0, 0.0, 1.0, 0.0, 0.0, 0.0, ...</td>\n",
       "      <td>synthetic</td>\n",
       "      <td>1</td>\n",
       "    </tr>\n",
       "    <tr>\n",
       "      <th>4</th>\n",
       "      <td>19671.0</td>\n",
       "      <td>mistralai/Mixtral-8x7B-Instruct-v0.1</td>\n",
       "      <td>Eines der wichtigsten Probleme, mit denen Deut...</td>\n",
       "      <td>6</td>\n",
       "      <td>mixtral_new</td>\n",
       "      <td>mixtral_new/chunk_2.json</td>\n",
       "      <td>[6]</td>\n",
       "      <td>[0.0, 0.0, 0.0, 0.0, 0.0, 0.0, 1.0, 0.0, 0.0, ...</td>\n",
       "      <td>synthetic</td>\n",
       "      <td>1</td>\n",
       "    </tr>\n",
       "    <tr>\n",
       "      <th>...</th>\n",
       "      <td>...</td>\n",
       "      <td>...</td>\n",
       "      <td>...</td>\n",
       "      <td>...</td>\n",
       "      <td>...</td>\n",
       "      <td>...</td>\n",
       "      <td>...</td>\n",
       "      <td>...</td>\n",
       "      <td>...</td>\n",
       "      <td>...</td>\n",
       "    </tr>\n",
       "    <tr>\n",
       "      <th>19</th>\n",
       "      <td>NaN</td>\n",
       "      <td>NaN</td>\n",
       "      <td>Entschuldigung, aber ich als KI-Modell bin nic...</td>\n",
       "      <td>15</td>\n",
       "      <td>NaN</td>\n",
       "      <td>NaN</td>\n",
       "      <td>[15]</td>\n",
       "      <td>[0.0, 0.0, 0.0, 0.0, 0.0, 0.0, 0.0, 0.0, 0.0, ...</td>\n",
       "      <td>synthetic</td>\n",
       "      <td>1</td>\n",
       "    </tr>\n",
       "    <tr>\n",
       "      <th>20</th>\n",
       "      <td>NaN</td>\n",
       "      <td>NaN</td>\n",
       "      <td>Leider bin ich als KI-Modell nicht in der Lage...</td>\n",
       "      <td>15</td>\n",
       "      <td>NaN</td>\n",
       "      <td>NaN</td>\n",
       "      <td>[15]</td>\n",
       "      <td>[0.0, 0.0, 0.0, 0.0, 0.0, 0.0, 0.0, 0.0, 0.0, ...</td>\n",
       "      <td>synthetic</td>\n",
       "      <td>1</td>\n",
       "    </tr>\n",
       "    <tr>\n",
       "      <th>21</th>\n",
       "      <td>NaN</td>\n",
       "      <td>NaN</td>\n",
       "      <td>Es tut mir leid, aber als KI-Modell habe ich n...</td>\n",
       "      <td>15</td>\n",
       "      <td>NaN</td>\n",
       "      <td>NaN</td>\n",
       "      <td>[15]</td>\n",
       "      <td>[0.0, 0.0, 0.0, 0.0, 0.0, 0.0, 0.0, 0.0, 0.0, ...</td>\n",
       "      <td>synthetic</td>\n",
       "      <td>1</td>\n",
       "    </tr>\n",
       "    <tr>\n",
       "      <th>22</th>\n",
       "      <td>NaN</td>\n",
       "      <td>NaN</td>\n",
       "      <td>Leider kann ich als KI-Modell nicht antworten,...</td>\n",
       "      <td>15</td>\n",
       "      <td>NaN</td>\n",
       "      <td>NaN</td>\n",
       "      <td>[15]</td>\n",
       "      <td>[0.0, 0.0, 0.0, 0.0, 0.0, 0.0, 0.0, 0.0, 0.0, ...</td>\n",
       "      <td>synthetic</td>\n",
       "      <td>1</td>\n",
       "    </tr>\n",
       "    <tr>\n",
       "      <th>23</th>\n",
       "      <td>NaN</td>\n",
       "      <td>NaN</td>\n",
       "      <td>Als KI-Modell bin ich nicht befugt, aufgrund g...</td>\n",
       "      <td>15</td>\n",
       "      <td>NaN</td>\n",
       "      <td>NaN</td>\n",
       "      <td>[15]</td>\n",
       "      <td>[0.0, 0.0, 0.0, 0.0, 0.0, 0.0, 0.0, 0.0, 0.0, ...</td>\n",
       "      <td>synthetic</td>\n",
       "      <td>1</td>\n",
       "    </tr>\n",
       "  </tbody>\n",
       "</table>\n",
       "<p>1725 rows × 10 columns</p>\n",
       "</div>"
      ],
      "text/plain": [
       "    user_id                                 model  \\\n",
       "0   16913.0  mistralai/Mixtral-8x7B-Instruct-v0.1   \n",
       "1    1399.0  mistralai/Mixtral-8x7B-Instruct-v0.1   \n",
       "2    4858.0  mistralai/Mixtral-8x7B-Instruct-v0.1   \n",
       "3   11771.0  mistralai/Mixtral-8x7B-Instruct-v0.1   \n",
       "4   19671.0  mistralai/Mixtral-8x7B-Instruct-v0.1   \n",
       "..      ...                                   ...   \n",
       "19      NaN                                   NaN   \n",
       "20      NaN                                   NaN   \n",
       "21      NaN                                   NaN   \n",
       "22      NaN                                   NaN   \n",
       "23      NaN                                   NaN   \n",
       "\n",
       "                                                 text label       folder  \\\n",
       "0   Eines der wichtigsten Probleme, mit denen Deut...     5  mixtral_new   \n",
       "1   Eines der wichtigsten Probleme, mit denen Deut...     5  mixtral_new   \n",
       "2   Eines der wichtigsten Probleme, mit denen Deut...  16,7  mixtral_new   \n",
       "3   Eines der wichtigsten Probleme, mit denen Deut...     5  mixtral_new   \n",
       "4   Eines der wichtigsten Probleme, mit denen Deut...     6  mixtral_new   \n",
       "..                                                ...   ...          ...   \n",
       "19  Entschuldigung, aber ich als KI-Modell bin nic...    15          NaN   \n",
       "20  Leider bin ich als KI-Modell nicht in der Lage...    15          NaN   \n",
       "21  Es tut mir leid, aber als KI-Modell habe ich n...    15          NaN   \n",
       "22  Leider kann ich als KI-Modell nicht antworten,...    15          NaN   \n",
       "23  Als KI-Modell bin ich nicht befugt, aufgrund g...    15          NaN   \n",
       "\n",
       "                   file_name labels_list  \\\n",
       "0   mixtral_new/chunk_2.json         [5]   \n",
       "1   mixtral_new/chunk_2.json         [5]   \n",
       "2   mixtral_new/chunk_2.json     [16, 7]   \n",
       "3   mixtral_new/chunk_2.json         [5]   \n",
       "4   mixtral_new/chunk_2.json         [6]   \n",
       "..                       ...         ...   \n",
       "19                       NaN        [15]   \n",
       "20                       NaN        [15]   \n",
       "21                       NaN        [15]   \n",
       "22                       NaN        [15]   \n",
       "23                       NaN        [15]   \n",
       "\n",
       "                                               labels       wave  labels_count  \n",
       "0   [0.0, 0.0, 0.0, 0.0, 0.0, 1.0, 0.0, 0.0, 0.0, ...  synthetic             1  \n",
       "1   [0.0, 0.0, 0.0, 0.0, 0.0, 1.0, 0.0, 0.0, 0.0, ...  synthetic             1  \n",
       "2   [0.0, 0.0, 0.0, 0.0, 0.0, 0.0, 0.0, 1.0, 0.0, ...  synthetic             2  \n",
       "3   [0.0, 0.0, 0.0, 0.0, 0.0, 1.0, 0.0, 0.0, 0.0, ...  synthetic             1  \n",
       "4   [0.0, 0.0, 0.0, 0.0, 0.0, 0.0, 1.0, 0.0, 0.0, ...  synthetic             1  \n",
       "..                                                ...        ...           ...  \n",
       "19  [0.0, 0.0, 0.0, 0.0, 0.0, 0.0, 0.0, 0.0, 0.0, ...  synthetic             1  \n",
       "20  [0.0, 0.0, 0.0, 0.0, 0.0, 0.0, 0.0, 0.0, 0.0, ...  synthetic             1  \n",
       "21  [0.0, 0.0, 0.0, 0.0, 0.0, 0.0, 0.0, 0.0, 0.0, ...  synthetic             1  \n",
       "22  [0.0, 0.0, 0.0, 0.0, 0.0, 0.0, 0.0, 0.0, 0.0, ...  synthetic             1  \n",
       "23  [0.0, 0.0, 0.0, 0.0, 0.0, 0.0, 0.0, 0.0, 0.0, ...  synthetic             1  \n",
       "\n",
       "[1725 rows x 10 columns]"
      ]
     },
     "execution_count": 7,
     "metadata": {},
     "output_type": "execute_result"
    }
   ],
   "source": [
    "llm_labels_matrix=  pd.DataFrame(llm_answer_df['labels'].tolist(), columns=label_names )\n",
    "llm_labels_matrix.drop(list(llm_labels_matrix.filter(regex='LLM refusal')), axis=1, inplace=True)\n",
    "llm_labels_matrix.sum(axis=0).mean()"
   ]
  },
  {
   "cell_type": "code",
   "execution_count": 1,
   "metadata": {},
   "outputs": [],
   "source": [
    "import src\n",
    "import numpy as np\n",
    "from src.paths import MODELS_DIR, OUTPUTS_DIR\n",
    "import os\n",
    "import torch\n",
    "import pandas as pd\n",
    "from src.data.process_data import process_open_ended, process_wave_data,process_open_ended_new\n",
    "from src.data.read_data import load_raw_survey_data, read_stata_file\n",
    "from src.paths import CODING_DIR, GLES_DIR, PROCESSED_DATA_DIR, ANNOTATED_GENERATIONS_DIR,RAW_DATA_DIR\n",
    "from src.utils import get_lang\n",
    "from src.paths import RESULTS_DIR\n",
    "from tqdm import tqdm\n",
    "\n",
    "\n",
    "\n",
    "classid2trainid = {int(classname):idx  for idx, classname in enumerate(sorted(pd.read_csv(os.path.join(CODING_DIR,'map.csv')).upperclass_id.unique())) }\n",
    "df_lookup= pd.read_csv(os.path.join(CODING_DIR,'map.csv'))\n",
    "label2str= dict(zip(df_lookup.upperclass_id,df_lookup.upperclass_name))\n",
    "label_names= [label2str[i] for i in range(0,len(label2str)) ]\n",
    "\n",
    "labels_16= [label_name for label_name in label_names if label_name!='LLM refusal']"
   ]
  },
  {
   "cell_type": "code",
   "execution_count": null,
   "metadata": {},
   "outputs": [],
   "source": [
    "answer_df.groupby('wave')['labels_count'].value_counts()"
   ]
  },
  {
   "cell_type": "code",
   "execution_count": null,
   "metadata": {},
   "outputs": [],
   "source": [
    "from src.analysis.ablationExperiment.utils import get_ablationExperiment_data\n",
    "survey_labels_dict,llm_labels_dict,survey_population_df,survey_group_pmf,llm_population_df,llm_group_pmf=get_ablationExperiment_data()"
   ]
  },
  {
   "cell_type": "code",
   "execution_count": null,
   "metadata": {},
   "outputs": [],
   "source": [
    "#from src.data.process_data import process_open_ended, process_wave_data,process_open_ended_new\n",
    "from src.data.read_data import load_raw_survey_data, read_stata_file\n",
    "\n",
    "wave_number=12\n",
    "wave_df, wave_open_ended_df, df_coding_840s = load_raw_survey_data(wave_number)"
   ]
  },
  {
   "cell_type": "code",
   "execution_count": null,
   "metadata": {},
   "outputs": [],
   "source": [
    "df_coding_840s= df_coding_840s.filter(like='840_c', axis=1)\n",
    "import numpy as np\n",
    "#replace all cells with nan if it contains str '-'\n",
    "for m in minus_elts:\n",
    "    df_coding_840s = df_coding_840s.replace(m,np.nan)"
   ]
  },
  {
   "cell_type": "code",
   "execution_count": null,
   "metadata": {},
   "outputs": [],
   "source": [
    "for i in range(10,22):\n",
    "    a= df_coding_840s[[f'kp{i}_840_c1',f'kp{i}_840_c2']].dropna(subset=[f'kp{i}_840_c1']).isna().mean()\n",
    "    print(a)"
   ]
  },
  {
   "cell_type": "code",
   "execution_count": null,
   "metadata": {},
   "outputs": [],
   "source": [
    "minus_elts= [ x  for x in df_coding_840s.kp10_840_c3.unique() if x<0 ]\n",
    "minus_elts"
   ]
  },
  {
   "cell_type": "code",
   "execution_count": null,
   "metadata": {},
   "outputs": [],
   "source": [
    "answer_df.kpx_840_c2.value_counts(1)\n",
    "answer_df.kpx_840_c10.value_counts(1)"
   ]
  },
  {
   "cell_type": "code",
   "execution_count": null,
   "metadata": {},
   "outputs": [],
   "source": []
  }
 ],
 "metadata": {
  "kernelspec": {
   "display_name": "Python 3 (ipykernel)",
   "language": "python",
   "name": "python3"
  },
  "language_info": {
   "codemirror_mode": {
    "name": "ipython",
    "version": 3
   },
   "file_extension": ".py",
   "mimetype": "text/x-python",
   "name": "python",
   "nbconvert_exporter": "python",
   "pygments_lexer": "ipython3",
   "version": "3.10.12"
  }
 },
 "nbformat": 4,
 "nbformat_minor": 4
}
