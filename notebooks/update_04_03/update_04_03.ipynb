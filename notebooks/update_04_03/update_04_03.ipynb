{
 "cells": [
  {
   "cell_type": "code",
   "execution_count": 1,
   "id": "5966119f",
   "metadata": {},
   "outputs": [
    {
     "name": "stderr",
     "output_type": "stream",
     "text": [
      "/usr/local/lib/python3.10/dist-packages/tqdm/auto.py:21: TqdmWarning: IProgress not found. Please update jupyter and ipywidgets. See https://ipywidgets.readthedocs.io/en/stable/user_install.html\n",
      "  from .autonotebook import tqdm as notebook_tqdm\n",
      "Process ForkProcess-2:\n",
      "Process ForkProcess-6:\n",
      "Process ForkProcess-3:\n",
      "Process ForkProcess-4:\n",
      "Process ForkProcess-1:\n",
      "Process ForkProcess-5:\n",
      "Traceback (most recent call last):\n",
      "Traceback (most recent call last):\n",
      "Traceback (most recent call last):\n",
      "Traceback (most recent call last):\n",
      "  File \"/usr/lib/python3.10/multiprocessing/process.py\", line 314, in _bootstrap\n",
      "    self.run()\n",
      "Traceback (most recent call last):\n",
      "  File \"/usr/lib/python3.10/multiprocessing/process.py\", line 314, in _bootstrap\n",
      "    self.run()\n",
      "Traceback (most recent call last):\n",
      "  File \"/usr/lib/python3.10/multiprocessing/process.py\", line 314, in _bootstrap\n",
      "    self.run()\n",
      "  File \"/usr/lib/python3.10/multiprocessing/process.py\", line 314, in _bootstrap\n",
      "    self.run()\n",
      "  File \"/usr/lib/python3.10/multiprocessing/process.py\", line 108, in run\n",
      "    self._target(*self._args, **self._kwargs)\n",
      "  File \"/usr/lib/python3.10/multiprocessing/process.py\", line 108, in run\n",
      "    self._target(*self._args, **self._kwargs)\n",
      "  File \"/usr/lib/python3.10/concurrent/futures/process.py\", line 240, in _process_worker\n",
      "    call_item = call_queue.get(block=True)\n",
      "  File \"/usr/lib/python3.10/multiprocessing/process.py\", line 108, in run\n",
      "    self._target(*self._args, **self._kwargs)\n",
      "  File \"/usr/lib/python3.10/multiprocessing/process.py\", line 314, in _bootstrap\n",
      "    self.run()\n",
      "  File \"/usr/lib/python3.10/multiprocessing/queues.py\", line 102, in get\n",
      "    with self._rlock:\n",
      "  File \"/usr/lib/python3.10/concurrent/futures/process.py\", line 240, in _process_worker\n",
      "    call_item = call_queue.get(block=True)\n",
      "  File \"/usr/lib/python3.10/multiprocessing/process.py\", line 314, in _bootstrap\n",
      "    self.run()\n",
      "  File \"/usr/lib/python3.10/multiprocessing/process.py\", line 108, in run\n",
      "    self._target(*self._args, **self._kwargs)\n",
      "  File \"/usr/lib/python3.10/multiprocessing/queues.py\", line 102, in get\n",
      "    with self._rlock:\n",
      "  File \"/usr/lib/python3.10/multiprocessing/synchronize.py\", line 95, in __enter__\n",
      "    return self._semlock.__enter__()\n",
      "  File \"/usr/lib/python3.10/multiprocessing/process.py\", line 108, in run\n",
      "    self._target(*self._args, **self._kwargs)\n",
      "KeyboardInterrupt\n",
      "  File \"/usr/lib/python3.10/concurrent/futures/process.py\", line 240, in _process_worker\n",
      "    call_item = call_queue.get(block=True)\n",
      "  File \"/usr/lib/python3.10/concurrent/futures/process.py\", line 240, in _process_worker\n",
      "    call_item = call_queue.get(block=True)\n",
      "  File \"/usr/lib/python3.10/multiprocessing/process.py\", line 108, in run\n",
      "    self._target(*self._args, **self._kwargs)\n",
      "  File \"/usr/lib/python3.10/concurrent/futures/process.py\", line 240, in _process_worker\n",
      "    call_item = call_queue.get(block=True)\n",
      "  File \"/usr/lib/python3.10/multiprocessing/synchronize.py\", line 95, in __enter__\n",
      "    return self._semlock.__enter__()\n",
      "  File \"/usr/lib/python3.10/multiprocessing/queues.py\", line 102, in get\n",
      "    with self._rlock:\n",
      "KeyboardInterrupt\n",
      "  File \"/usr/lib/python3.10/multiprocessing/queues.py\", line 102, in get\n",
      "    with self._rlock:\n",
      "  File \"/usr/lib/python3.10/multiprocessing/queues.py\", line 102, in get\n",
      "    with self._rlock:\n",
      "  File \"/usr/lib/python3.10/multiprocessing/synchronize.py\", line 95, in __enter__\n",
      "    return self._semlock.__enter__()\n",
      "  File \"/usr/lib/python3.10/multiprocessing/synchronize.py\", line 95, in __enter__\n",
      "    return self._semlock.__enter__()\n",
      "  File \"/usr/lib/python3.10/multiprocessing/synchronize.py\", line 95, in __enter__\n",
      "    return self._semlock.__enter__()\n"
     ]
    }
   ],
   "source": [
    "import json\n",
    "import os\n",
    "import re\n",
    "import time\n",
    "\n",
    "import pandas as pd\n",
    "import torch\n",
    "from tqdm import tqdm\n",
    "from transformers import AutoTokenizer, LlamaForCausalLM, LlamaTokenizer, pipeline\n",
    "import transformers\n",
    "import huggingface_hub\n",
    "from src.utils import  preprocess_sample_df,save_experiment_log\n",
    "\n",
    "prompt_dir = os.path.join('..', 'prompts')  \n",
    "data_dir = os.path.join('..', 'data')  \n",
    "raw_data_dir = os.path.join(data_dir,'raw')  \n",
    "processed_data_dir = os.path.join(data_dir,'processed')  \n",
    "\n",
    "\n",
    "\n",
    "sample_fpath = os.path.join(processed_data_dir,'sample_w12_stratified.csv')  \n",
    "prompt_fpath=os.path.join(prompt_dir,'9_prompt_with_month.txt')  \n",
    "sample_df= preprocess_sample_df(sample_fpath,prompt_fpath)\n",
    "\n"
   ]
  },
  {
   "cell_type": "markdown",
   "id": "194d084c",
   "metadata": {},
   "source": [
    "# Progress Since Last Meeting\n",
    "- prompt changes:\n",
    "    - added month\n",
    "    - added education level\n",
    "    - some fields left in English were corrected.\n",
    "- data changes:\n",
    "    - education level used\n",
    "    - statratified sampling implemented\n",
    "        - gender, ostwest, education_level\n",
    "    - One Pre-covid wave is chosen\n",
    "-code organization "
   ]
  },
  {
   "cell_type": "markdown",
   "id": "fa3ecec0",
   "metadata": {},
   "source": [
    "# System Prompt"
   ]
  },
  {
   "cell_type": "code",
   "execution_count": 7,
   "id": "c1024295",
   "metadata": {},
   "outputs": [
    {
     "name": "stdout",
     "output_type": "stream",
     "text": [
      "<s>[INST] <<SYS>> Identifizieren Sie das wichtigste Problem, mit dem Deutschland im November 2019 konfrontiert ist. Geben Sie die Antwort in einem prägnanten Satz an, konzentrieren Sie sich nur auf ein einziges Thema ohne weitere Ausführungen oder Auflistung zusätzlicher Probleme. Wiederholen Sie nicht die Informationen die Ihnen gegeben wurden, und geben Sie Ihre Antwort direkt und ohne einleitende Phrasen. Antworten Sie auf Deutsch und ausschließlich auf Deutsch, verwenden Sie keine Englische Sprache. Antworten Sie aus der Sicht eines Befragten mit den im nachfolgenden spezifizierten Eigenschaften\n"
     ]
    }
   ],
   "source": [
    "from pprint import pprint\n",
    "\n",
    "\n",
    "for row in sample_df.formatted_prompt.iloc[:1].values:\n",
    "    #print(row)\n",
    "    print( row.split(\"<</SYS>>\",1)[0],sep='/n/n')"
   ]
  },
  {
   "cell_type": "markdown",
   "id": "8938a1f2",
   "metadata": {},
   "source": [
    "# Updated Prompt"
   ]
  },
  {
   "cell_type": "code",
   "execution_count": 8,
   "id": "cb5e6d9f",
   "metadata": {},
   "outputs": [
    {
     "name": "stdout",
     "output_type": "stream",
     "text": [
      "Die Befragte ist 48 Jahre alt, weiblich, mit einem Hauptschulabschluss, die in Westdeutschland lebt und hauptsächlich keine Partei unterstützt.\n",
      "Die Befragte ist 64 Jahre alt, weiblich, mit einem Hauptschulabschluss, die in Westdeutschland lebt und hauptsächlich Die Linke unterstützt.\n",
      "Der Befragte ist 29 Jahre alt, männlich, mit einem Realschulabschluss, der in Westdeutschland lebt und hauptsächlich eine Kleinpartei unterstützt.\n",
      "Die Befragte ist 57 Jahre alt, weiblich, mit Abitur, die in Westdeutschland lebt und hauptsächlich die CDU/CSU unterstützt.\n",
      "Der Befragte ist 64 Jahre alt, männlich, mit Abitur, der in Ostdeutschland lebt und hauptsächlich keine Partei unterstützt.\n",
      "Die Befragte ist 64 Jahre alt, weiblich, mit einem Realschulabschluss, die in Westdeutschland lebt und hauptsächlich die FDP unterstützt.\n",
      "Der Befragte ist 64 Jahre alt, männlich, mit Abitur, der in Ostdeutschland lebt und hauptsächlich keine Partei unterstützt.\n",
      "Die Befragte ist 41 Jahre alt, weiblich, mit einem Realschulabschluss, die in Westdeutschland lebt und hauptsächlich die Grünen unterstützt.\n",
      "Der Befragte ist 64 Jahre alt, männlich, mit einem Hauptschulabschluss, der in Westdeutschland lebt und hauptsächlich die SPD unterstützt.\n",
      "Der Befragte ist 64 Jahre alt, männlich, mit einem Hauptschulabschluss, der in Westdeutschland lebt und hauptsächlich die SPD unterstützt.\n",
      "Der Befragte ist 53 Jahre alt, männlich, mit Abitur, der in Westdeutschland lebt und hauptsächlich keine Partei unterstützt.\n",
      "Die Befragte ist 60 Jahre alt, weiblich, mit Abitur, die in Ostdeutschland lebt und hauptsächlich Die Linke unterstützt.\n",
      "Der Befragte ist 44 Jahre alt, männlich, mit Abitur, der in Ostdeutschland lebt und hauptsächlich die FDP unterstützt.\n",
      "Der Befragte ist 50 Jahre alt, männlich, mit Fachhochschulreife, der in Westdeutschland lebt und hauptsächlich die AfD unterstützt.\n",
      "Der Befragte ist 64 Jahre alt, männlich, mit einem Realschulabschluss, der in Westdeutschland lebt und hauptsächlich keine Partei unterstützt.\n"
     ]
    }
   ],
   "source": [
    "from pprint import pprint\n",
    "\n",
    "\n",
    "for row in sample_df.formatted_prompt.iloc[:15].values:\n",
    "    #print(row)\n",
    "    print( row.split(\"<</SYS>>\",1)[1].strip(r'[/INST]')[:-9])"
   ]
  },
  {
   "cell_type": "markdown",
   "id": "d90b44b2",
   "metadata": {},
   "source": [
    "# Complete List of prompt variables"
   ]
  },
  {
   "cell_type": "code",
   "execution_count": null,
   "id": "a6207b29",
   "metadata": {},
   "outputs": [],
   "source": [
    "\n",
    "leaning_party_dict = {\n",
    "    1: \"die CDU/CSU\",\n",
    "    2: \"die CDU\",\n",
    "    3: \"die CSU\",\n",
    "    4: \"die SPD\",\n",
    "    5: \"die FDP\",\n",
    "    6: \"die Grünen\",\n",
    "    7: \"Die Linke\",\n",
    "    322: \"die AfD\", \n",
    "    801: \"eine Kleinpartei\",\n",
    "    808: \"keine Partei\",\n",
    "}\n",
    "education_clauses_dict = {\n",
    "    1: \"ohne Schulabschluss\",\n",
    "    2: \"mit einem Hauptschulabschluss\",\n",
    "    3: \"mit einem Realschulabschluss\",\n",
    "    4: \"mit Fachhochschulreife\",\n",
    "    5: \"mit Abitur\",\n",
    "    9: \"ist noch Schüler/in\"\n",
    "}\n",
    "\n",
    "gender_dict = {\n",
    "    1: \"männlich\",\n",
    "    2: \"weiblich\",\n",
    "    -95: \"not participated\"\n",
    "}\n",
    "\n",
    "ostwest_dict = {\n",
    "    1: \"Westdeutschland\", \n",
    "    0: \"Ostdeutschland\",\n",
    "\n",
    "}\n"
   ]
  },
  {
   "cell_type": "markdown",
   "id": "cb109118",
   "metadata": {},
   "source": [
    "# New Results\n",
    "\n",
    "-  coronapandemie is still there , but just a few.\n",
    "- partially english answers are approx. ~ 5 in 1000. "
   ]
  },
  {
   "cell_type": "markdown",
   "id": "bce4dd8b",
   "metadata": {},
   "source": [
    "-prompt resulting in Denglish answers:\n",
    "    \n",
    "`<s>[INST] <<SYS>> Identifizieren Sie das wichtigste Problem, mit dem Deutschland im Jahr 2019 konfrontiert ist. Geben Sie die Antwort in einem prägnanten Satz an, konzentrieren Sie sich nur auf ein einziges Thema ohne weitere Ausführungen oder Auflistung zusätzlicher Probleme. Wiederholen Sie nicht die Informationen die Ihnen gegeben wurden, und geben Sie Ihre Antwort direkt und ohne einleitende Phrasen. Antworten Sie auf Deutsch und ausschließlich auf Deutsch, verwenden Sie keine Englische Sprache. Antworten Sie aus der Sicht eines Befragten mit den im nachfolgenden spezifizierten Eigenschaften<</SYS>>Der Befragte ist 21 Jahre alt, männlich, mit Abitur, der in Ostdeutschland lebt und hauptsächlich keine Partei unterstützt. [/INST]`"
   ]
  },
  {
   "cell_type": "markdown",
   "id": "ea7f681a",
   "metadata": {},
   "source": [
    "Denglish answers:\n",
    "\n",
    "- `Das wichtigste Problem, das Deutschland 2019 konfrontiert, ist laut mir die steigereingame Economic inequality and the lack of affordable housing.`\n",
    "- `\"Das wichtigste Problem, mit dem Deutschland konfrontiert ist, ist die wachsende Unzufriedenheit und Frustration der Bevölkerung, particularly among young people and those in Eastern Germany, due to a lack of perspective and the feeling of being left behind in terms of economic and social opportunities.\"`\n"
   ]
  },
  {
   "cell_type": "code",
   "execution_count": null,
   "id": "19698b01",
   "metadata": {},
   "outputs": [],
   "source": []
  }
 ],
 "metadata": {
  "kernelspec": {
   "display_name": "Python 3 (ipykernel)",
   "language": "python",
   "name": "python3"
  },
  "language_info": {
   "codemirror_mode": {
    "name": "ipython",
    "version": 3
   },
   "file_extension": ".py",
   "mimetype": "text/x-python",
   "name": "python",
   "nbconvert_exporter": "python",
   "pygments_lexer": "ipython3",
   "version": "3.10.12"
  }
 },
 "nbformat": 4,
 "nbformat_minor": 5
}
